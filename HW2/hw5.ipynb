{
 "cells": [
  {
   "cell_type": "code",
   "execution_count": 171,
   "metadata": {},
   "outputs": [],
   "source": [
    "import plotly.graph_objects as go\n",
    "import ipykernel\n",
    "import pandas as pd\n",
    "import numpy as np\n",
    "import plotly.express as px"
   ]
  },
  {
   "cell_type": "code",
   "execution_count": 172,
   "metadata": {},
   "outputs": [],
   "source": [
    "df = pd.read_csv(\"./kaggle/concussion.csv\")"
   ]
  },
  {
   "cell_type": "code",
   "execution_count": 173,
   "metadata": {},
   "outputs": [],
   "source": [
    "dfStats = pd.read_csv(\"./kaggle/nfl-team-statistics.csv\")"
   ]
  },
  {
   "cell_type": "code",
   "execution_count": 174,
   "metadata": {},
   "outputs": [
    {
     "data": {
      "text/plain": [
       "array(['ARI', 'ATL', 'BAL', 'BUF', 'CAR', 'CHI', 'CIN', 'CLE', 'DAL',\n",
       "       'DEN', 'DET', 'GB', 'IND', 'JAX', 'KC', 'LA', 'LAC', 'LV', 'MIA',\n",
       "       'MIN', 'NE', 'NO', 'NYG', 'NYJ', 'PHI', 'PIT', 'SEA', 'SF', 'TB',\n",
       "       'TEN', 'WAS', 'HOU'], dtype=object)"
      ]
     },
     "execution_count": 174,
     "metadata": {},
     "output_type": "execute_result"
    }
   ],
   "source": [
    "dfStats[\"team\"].unique()"
   ]
  },
  {
   "cell_type": "code",
   "execution_count": 175,
   "metadata": {},
   "outputs": [
    {
     "data": {
      "text/plain": [
       "<bound method DataFrame.info of                                                     ID             Player  \\\n",
       "0    Aldrick Robinson - Washington Redskins vs. Tam...   Aldrick Robinson   \n",
       "1    D.J. Fluker - Tennessee Titans vs. San Diego C...        D.J. Fluker   \n",
       "2    Marquise Goodwin - Houston Texans vs. Buffalo ...   Marquise Goodwin   \n",
       "3    Bryan Stork - New England Patriots vs. Buffalo...        Bryan Stork   \n",
       "4    Lorenzo Booker - Chicago Bears vs. Indianapoli...     Lorenzo Booker   \n",
       "..                                                 ...                ...   \n",
       "387  Eric Weddle - Baltimore Ravens vs. San Diego C...        Eric Weddle   \n",
       "388  Blidi Wreh-Wilson - Indianapolis Colts vs. Ten...  Blidi Wreh-Wilson   \n",
       "389  Josh Sitton - Green Bay Packers vs. Tennessee ...        Josh Sitton   \n",
       "390  Nate Solder - New England Patriots vs. Clevela...        Nate Solder   \n",
       "391  Tony Jefferson - Arizona Cardinals vs. Philade...     Tony Jefferson   \n",
       "\n",
       "                     Team                                               Game  \\\n",
       "0     Washington Redskins  Washington Redskins vs. Tampa Bay Buccaneers (...   \n",
       "1      San Diego Chargers  Tennessee Titans vs. San Diego Chargers (22/9/...   \n",
       "2           Buffalo Bills       Houston Texans vs. Buffalo Bills (28/9/2014)   \n",
       "3    New England Patriots  New England Patriots vs. Buffalo Bills (12/10/...   \n",
       "4           Chicago Bears    Chicago Bears vs. Indianapolis Colts (9/9/2012)   \n",
       "..                    ...                                                ...   \n",
       "387    San Diego Chargers  Baltimore Ravens vs. San Diego Chargers (25/11...   \n",
       "388      Tennessee Titans  Indianapolis Colts vs. Tennessee Titans (28/9/...   \n",
       "389     Green Bay Packers  Green Bay Packers vs. Tennessee Titans (23/12/...   \n",
       "390  New England Patriots  New England Patriots vs. Cleveland Browns (8/1...   \n",
       "391     Arizona Cardinals  Arizona Cardinals vs. Philadelphia Eagles (26/...   \n",
       "\n",
       "           Date         Opposing Team          Position Pre-Season Injury?  \\\n",
       "0    30/09/2012  Tampa Bay Buccaneers     Wide Receiver                 No   \n",
       "1    22/09/2013      Tennessee Titans  Offensive Tackle                 No   \n",
       "2    28/09/2014        Houston Texans     Wide Receiver                 No   \n",
       "3    12/10/2014         Buffalo Bills            Center                 No   \n",
       "4     9/09/2012    Indianapolis Colts      Running Back                Yes   \n",
       "..          ...                   ...               ...                ...   \n",
       "387  25/11/2012      Baltimore Ravens            Safety                 No   \n",
       "388  28/09/2014    Indianapolis Colts         Comerback                 No   \n",
       "389  23/12/2012      Tennessee Titans             Guard                 No   \n",
       "390   8/12/2013      Cleveland Browns  Offensive Tackle                 No   \n",
       "391  26/10/2014   Philadelphia Eagles            Safety                 No   \n",
       "\n",
       "    Winning Team?  Week of Injury     Season  Weeks Injured  Games Missed  \\\n",
       "0             Yes               4  2012/2013              1           1.0   \n",
       "1              No               3  2013/2014              1           1.0   \n",
       "2              No               4  2014/2015              1           1.0   \n",
       "3             Yes               6  2014/2015              1           1.0   \n",
       "4             Yes               1  2012/2013              0           NaN   \n",
       "..            ...             ...        ...            ...           ...   \n",
       "387            No              12  2012/2013              1           0.0   \n",
       "388            No               4  2014/2015              1           1.0   \n",
       "389           Yes              16  2012/2013              1           0.0   \n",
       "390           Yes              14  2013/2014              1           0.0   \n",
       "391           Yes               8  2014/2015              1           0.0   \n",
       "\n",
       "    Unknown Injury? Reported Injury Type  Total Snaps  \\\n",
       "0                No                 Head            0   \n",
       "1                No           Concussion            0   \n",
       "2                No           Concussion            0   \n",
       "3                No                 Head            0   \n",
       "4                No                 Head            0   \n",
       "..              ...                  ...          ...   \n",
       "387              No           Concussion           85   \n",
       "388              No           Concussion           85   \n",
       "389              No           Concussion           87   \n",
       "390              No           Concussion           87   \n",
       "391              No           Concussion           93   \n",
       "\n",
       "         Play Time After Injury Average Playtime Before Injury  \n",
       "0                      14 downs                    37.00 downs  \n",
       "1                      78 downs                    73.50 downs  \n",
       "2                      25 downs                    17.50 downs  \n",
       "3                      82 downs                    41.50 downs  \n",
       "4    Did not return from injury                            NaN  \n",
       "..                          ...                            ...  \n",
       "387                    90 downs                    76.00 downs  \n",
       "388                    90 downs                    78.00 downs  \n",
       "389                    70 downs                    73.64 downs  \n",
       "390                    52 downs                    78.83 downs  \n",
       "391                    33 downs                    64.83 downs  \n",
       "\n",
       "[392 rows x 18 columns]>"
      ]
     },
     "execution_count": 175,
     "metadata": {},
     "output_type": "execute_result"
    }
   ],
   "source": [
    "df.info"
   ]
  },
  {
   "cell_type": "code",
   "execution_count": 176,
   "metadata": {},
   "outputs": [
    {
     "data": {
      "text/html": [
       "<div>\n",
       "<style scoped>\n",
       "    .dataframe tbody tr th:only-of-type {\n",
       "        vertical-align: middle;\n",
       "    }\n",
       "\n",
       "    .dataframe tbody tr th {\n",
       "        vertical-align: top;\n",
       "    }\n",
       "\n",
       "    .dataframe thead th {\n",
       "        text-align: right;\n",
       "    }\n",
       "</style>\n",
       "<table border=\"1\" class=\"dataframe\">\n",
       "  <thead>\n",
       "    <tr style=\"text-align: right;\">\n",
       "      <th></th>\n",
       "      <th>ID</th>\n",
       "      <th>Player</th>\n",
       "      <th>Team</th>\n",
       "      <th>Game</th>\n",
       "      <th>Date</th>\n",
       "      <th>Opposing Team</th>\n",
       "      <th>Position</th>\n",
       "      <th>Pre-Season Injury?</th>\n",
       "      <th>Winning Team?</th>\n",
       "      <th>Week of Injury</th>\n",
       "      <th>Season</th>\n",
       "      <th>Weeks Injured</th>\n",
       "      <th>Games Missed</th>\n",
       "      <th>Unknown Injury?</th>\n",
       "      <th>Reported Injury Type</th>\n",
       "      <th>Total Snaps</th>\n",
       "      <th>Play Time After Injury</th>\n",
       "      <th>Average Playtime Before Injury</th>\n",
       "    </tr>\n",
       "  </thead>\n",
       "  <tbody>\n",
       "    <tr>\n",
       "      <th>0</th>\n",
       "      <td>Aldrick Robinson - Washington Redskins vs. Tam...</td>\n",
       "      <td>Aldrick Robinson</td>\n",
       "      <td>Washington Redskins</td>\n",
       "      <td>Washington Redskins vs. Tampa Bay Buccaneers (...</td>\n",
       "      <td>30/09/2012</td>\n",
       "      <td>Tampa Bay Buccaneers</td>\n",
       "      <td>Wide Receiver</td>\n",
       "      <td>No</td>\n",
       "      <td>Yes</td>\n",
       "      <td>4</td>\n",
       "      <td>2012/2013</td>\n",
       "      <td>1</td>\n",
       "      <td>1.0</td>\n",
       "      <td>No</td>\n",
       "      <td>Head</td>\n",
       "      <td>0</td>\n",
       "      <td>14 downs</td>\n",
       "      <td>37.00 downs</td>\n",
       "    </tr>\n",
       "    <tr>\n",
       "      <th>1</th>\n",
       "      <td>D.J. Fluker - Tennessee Titans vs. San Diego C...</td>\n",
       "      <td>D.J. Fluker</td>\n",
       "      <td>San Diego Chargers</td>\n",
       "      <td>Tennessee Titans vs. San Diego Chargers (22/9/...</td>\n",
       "      <td>22/09/2013</td>\n",
       "      <td>Tennessee Titans</td>\n",
       "      <td>Offensive Tackle</td>\n",
       "      <td>No</td>\n",
       "      <td>No</td>\n",
       "      <td>3</td>\n",
       "      <td>2013/2014</td>\n",
       "      <td>1</td>\n",
       "      <td>1.0</td>\n",
       "      <td>No</td>\n",
       "      <td>Concussion</td>\n",
       "      <td>0</td>\n",
       "      <td>78 downs</td>\n",
       "      <td>73.50 downs</td>\n",
       "    </tr>\n",
       "    <tr>\n",
       "      <th>2</th>\n",
       "      <td>Marquise Goodwin - Houston Texans vs. Buffalo ...</td>\n",
       "      <td>Marquise Goodwin</td>\n",
       "      <td>Buffalo Bills</td>\n",
       "      <td>Houston Texans vs. Buffalo Bills (28/9/2014)</td>\n",
       "      <td>28/09/2014</td>\n",
       "      <td>Houston Texans</td>\n",
       "      <td>Wide Receiver</td>\n",
       "      <td>No</td>\n",
       "      <td>No</td>\n",
       "      <td>4</td>\n",
       "      <td>2014/2015</td>\n",
       "      <td>1</td>\n",
       "      <td>1.0</td>\n",
       "      <td>No</td>\n",
       "      <td>Concussion</td>\n",
       "      <td>0</td>\n",
       "      <td>25 downs</td>\n",
       "      <td>17.50 downs</td>\n",
       "    </tr>\n",
       "    <tr>\n",
       "      <th>3</th>\n",
       "      <td>Bryan Stork - New England Patriots vs. Buffalo...</td>\n",
       "      <td>Bryan Stork</td>\n",
       "      <td>New England Patriots</td>\n",
       "      <td>New England Patriots vs. Buffalo Bills (12/10/...</td>\n",
       "      <td>12/10/2014</td>\n",
       "      <td>Buffalo Bills</td>\n",
       "      <td>Center</td>\n",
       "      <td>No</td>\n",
       "      <td>Yes</td>\n",
       "      <td>6</td>\n",
       "      <td>2014/2015</td>\n",
       "      <td>1</td>\n",
       "      <td>1.0</td>\n",
       "      <td>No</td>\n",
       "      <td>Head</td>\n",
       "      <td>0</td>\n",
       "      <td>82 downs</td>\n",
       "      <td>41.50 downs</td>\n",
       "    </tr>\n",
       "    <tr>\n",
       "      <th>4</th>\n",
       "      <td>Lorenzo Booker - Chicago Bears vs. Indianapoli...</td>\n",
       "      <td>Lorenzo Booker</td>\n",
       "      <td>Chicago Bears</td>\n",
       "      <td>Chicago Bears vs. Indianapolis Colts (9/9/2012)</td>\n",
       "      <td>9/09/2012</td>\n",
       "      <td>Indianapolis Colts</td>\n",
       "      <td>Running Back</td>\n",
       "      <td>Yes</td>\n",
       "      <td>Yes</td>\n",
       "      <td>1</td>\n",
       "      <td>2012/2013</td>\n",
       "      <td>0</td>\n",
       "      <td>NaN</td>\n",
       "      <td>No</td>\n",
       "      <td>Head</td>\n",
       "      <td>0</td>\n",
       "      <td>Did not return from injury</td>\n",
       "      <td>NaN</td>\n",
       "    </tr>\n",
       "    <tr>\n",
       "      <th>...</th>\n",
       "      <td>...</td>\n",
       "      <td>...</td>\n",
       "      <td>...</td>\n",
       "      <td>...</td>\n",
       "      <td>...</td>\n",
       "      <td>...</td>\n",
       "      <td>...</td>\n",
       "      <td>...</td>\n",
       "      <td>...</td>\n",
       "      <td>...</td>\n",
       "      <td>...</td>\n",
       "      <td>...</td>\n",
       "      <td>...</td>\n",
       "      <td>...</td>\n",
       "      <td>...</td>\n",
       "      <td>...</td>\n",
       "      <td>...</td>\n",
       "      <td>...</td>\n",
       "    </tr>\n",
       "    <tr>\n",
       "      <th>387</th>\n",
       "      <td>Eric Weddle - Baltimore Ravens vs. San Diego C...</td>\n",
       "      <td>Eric Weddle</td>\n",
       "      <td>San Diego Chargers</td>\n",
       "      <td>Baltimore Ravens vs. San Diego Chargers (25/11...</td>\n",
       "      <td>25/11/2012</td>\n",
       "      <td>Baltimore Ravens</td>\n",
       "      <td>Safety</td>\n",
       "      <td>No</td>\n",
       "      <td>No</td>\n",
       "      <td>12</td>\n",
       "      <td>2012/2013</td>\n",
       "      <td>1</td>\n",
       "      <td>0.0</td>\n",
       "      <td>No</td>\n",
       "      <td>Concussion</td>\n",
       "      <td>85</td>\n",
       "      <td>90 downs</td>\n",
       "      <td>76.00 downs</td>\n",
       "    </tr>\n",
       "    <tr>\n",
       "      <th>388</th>\n",
       "      <td>Blidi Wreh-Wilson - Indianapolis Colts vs. Ten...</td>\n",
       "      <td>Blidi Wreh-Wilson</td>\n",
       "      <td>Tennessee Titans</td>\n",
       "      <td>Indianapolis Colts vs. Tennessee Titans (28/9/...</td>\n",
       "      <td>28/09/2014</td>\n",
       "      <td>Indianapolis Colts</td>\n",
       "      <td>Comerback</td>\n",
       "      <td>No</td>\n",
       "      <td>No</td>\n",
       "      <td>4</td>\n",
       "      <td>2014/2015</td>\n",
       "      <td>1</td>\n",
       "      <td>1.0</td>\n",
       "      <td>No</td>\n",
       "      <td>Concussion</td>\n",
       "      <td>85</td>\n",
       "      <td>90 downs</td>\n",
       "      <td>78.00 downs</td>\n",
       "    </tr>\n",
       "    <tr>\n",
       "      <th>389</th>\n",
       "      <td>Josh Sitton - Green Bay Packers vs. Tennessee ...</td>\n",
       "      <td>Josh Sitton</td>\n",
       "      <td>Green Bay Packers</td>\n",
       "      <td>Green Bay Packers vs. Tennessee Titans (23/12/...</td>\n",
       "      <td>23/12/2012</td>\n",
       "      <td>Tennessee Titans</td>\n",
       "      <td>Guard</td>\n",
       "      <td>No</td>\n",
       "      <td>Yes</td>\n",
       "      <td>16</td>\n",
       "      <td>2012/2013</td>\n",
       "      <td>1</td>\n",
       "      <td>0.0</td>\n",
       "      <td>No</td>\n",
       "      <td>Concussion</td>\n",
       "      <td>87</td>\n",
       "      <td>70 downs</td>\n",
       "      <td>73.64 downs</td>\n",
       "    </tr>\n",
       "    <tr>\n",
       "      <th>390</th>\n",
       "      <td>Nate Solder - New England Patriots vs. Clevela...</td>\n",
       "      <td>Nate Solder</td>\n",
       "      <td>New England Patriots</td>\n",
       "      <td>New England Patriots vs. Cleveland Browns (8/1...</td>\n",
       "      <td>8/12/2013</td>\n",
       "      <td>Cleveland Browns</td>\n",
       "      <td>Offensive Tackle</td>\n",
       "      <td>No</td>\n",
       "      <td>Yes</td>\n",
       "      <td>14</td>\n",
       "      <td>2013/2014</td>\n",
       "      <td>1</td>\n",
       "      <td>0.0</td>\n",
       "      <td>No</td>\n",
       "      <td>Concussion</td>\n",
       "      <td>87</td>\n",
       "      <td>52 downs</td>\n",
       "      <td>78.83 downs</td>\n",
       "    </tr>\n",
       "    <tr>\n",
       "      <th>391</th>\n",
       "      <td>Tony Jefferson - Arizona Cardinals vs. Philade...</td>\n",
       "      <td>Tony Jefferson</td>\n",
       "      <td>Arizona Cardinals</td>\n",
       "      <td>Arizona Cardinals vs. Philadelphia Eagles (26/...</td>\n",
       "      <td>26/10/2014</td>\n",
       "      <td>Philadelphia Eagles</td>\n",
       "      <td>Safety</td>\n",
       "      <td>No</td>\n",
       "      <td>Yes</td>\n",
       "      <td>8</td>\n",
       "      <td>2014/2015</td>\n",
       "      <td>1</td>\n",
       "      <td>0.0</td>\n",
       "      <td>No</td>\n",
       "      <td>Concussion</td>\n",
       "      <td>93</td>\n",
       "      <td>33 downs</td>\n",
       "      <td>64.83 downs</td>\n",
       "    </tr>\n",
       "  </tbody>\n",
       "</table>\n",
       "<p>392 rows × 18 columns</p>\n",
       "</div>"
      ],
      "text/plain": [
       "                                                    ID             Player  \\\n",
       "0    Aldrick Robinson - Washington Redskins vs. Tam...   Aldrick Robinson   \n",
       "1    D.J. Fluker - Tennessee Titans vs. San Diego C...        D.J. Fluker   \n",
       "2    Marquise Goodwin - Houston Texans vs. Buffalo ...   Marquise Goodwin   \n",
       "3    Bryan Stork - New England Patriots vs. Buffalo...        Bryan Stork   \n",
       "4    Lorenzo Booker - Chicago Bears vs. Indianapoli...     Lorenzo Booker   \n",
       "..                                                 ...                ...   \n",
       "387  Eric Weddle - Baltimore Ravens vs. San Diego C...        Eric Weddle   \n",
       "388  Blidi Wreh-Wilson - Indianapolis Colts vs. Ten...  Blidi Wreh-Wilson   \n",
       "389  Josh Sitton - Green Bay Packers vs. Tennessee ...        Josh Sitton   \n",
       "390  Nate Solder - New England Patriots vs. Clevela...        Nate Solder   \n",
       "391  Tony Jefferson - Arizona Cardinals vs. Philade...     Tony Jefferson   \n",
       "\n",
       "                     Team                                               Game  \\\n",
       "0     Washington Redskins  Washington Redskins vs. Tampa Bay Buccaneers (...   \n",
       "1      San Diego Chargers  Tennessee Titans vs. San Diego Chargers (22/9/...   \n",
       "2           Buffalo Bills       Houston Texans vs. Buffalo Bills (28/9/2014)   \n",
       "3    New England Patriots  New England Patriots vs. Buffalo Bills (12/10/...   \n",
       "4           Chicago Bears    Chicago Bears vs. Indianapolis Colts (9/9/2012)   \n",
       "..                    ...                                                ...   \n",
       "387    San Diego Chargers  Baltimore Ravens vs. San Diego Chargers (25/11...   \n",
       "388      Tennessee Titans  Indianapolis Colts vs. Tennessee Titans (28/9/...   \n",
       "389     Green Bay Packers  Green Bay Packers vs. Tennessee Titans (23/12/...   \n",
       "390  New England Patriots  New England Patriots vs. Cleveland Browns (8/1...   \n",
       "391     Arizona Cardinals  Arizona Cardinals vs. Philadelphia Eagles (26/...   \n",
       "\n",
       "           Date         Opposing Team          Position Pre-Season Injury?  \\\n",
       "0    30/09/2012  Tampa Bay Buccaneers     Wide Receiver                 No   \n",
       "1    22/09/2013      Tennessee Titans  Offensive Tackle                 No   \n",
       "2    28/09/2014        Houston Texans     Wide Receiver                 No   \n",
       "3    12/10/2014         Buffalo Bills            Center                 No   \n",
       "4     9/09/2012    Indianapolis Colts      Running Back                Yes   \n",
       "..          ...                   ...               ...                ...   \n",
       "387  25/11/2012      Baltimore Ravens            Safety                 No   \n",
       "388  28/09/2014    Indianapolis Colts         Comerback                 No   \n",
       "389  23/12/2012      Tennessee Titans             Guard                 No   \n",
       "390   8/12/2013      Cleveland Browns  Offensive Tackle                 No   \n",
       "391  26/10/2014   Philadelphia Eagles            Safety                 No   \n",
       "\n",
       "    Winning Team?  Week of Injury     Season  Weeks Injured  Games Missed  \\\n",
       "0             Yes               4  2012/2013              1           1.0   \n",
       "1              No               3  2013/2014              1           1.0   \n",
       "2              No               4  2014/2015              1           1.0   \n",
       "3             Yes               6  2014/2015              1           1.0   \n",
       "4             Yes               1  2012/2013              0           NaN   \n",
       "..            ...             ...        ...            ...           ...   \n",
       "387            No              12  2012/2013              1           0.0   \n",
       "388            No               4  2014/2015              1           1.0   \n",
       "389           Yes              16  2012/2013              1           0.0   \n",
       "390           Yes              14  2013/2014              1           0.0   \n",
       "391           Yes               8  2014/2015              1           0.0   \n",
       "\n",
       "    Unknown Injury? Reported Injury Type  Total Snaps  \\\n",
       "0                No                 Head            0   \n",
       "1                No           Concussion            0   \n",
       "2                No           Concussion            0   \n",
       "3                No                 Head            0   \n",
       "4                No                 Head            0   \n",
       "..              ...                  ...          ...   \n",
       "387              No           Concussion           85   \n",
       "388              No           Concussion           85   \n",
       "389              No           Concussion           87   \n",
       "390              No           Concussion           87   \n",
       "391              No           Concussion           93   \n",
       "\n",
       "         Play Time After Injury Average Playtime Before Injury  \n",
       "0                      14 downs                    37.00 downs  \n",
       "1                      78 downs                    73.50 downs  \n",
       "2                      25 downs                    17.50 downs  \n",
       "3                      82 downs                    41.50 downs  \n",
       "4    Did not return from injury                            NaN  \n",
       "..                          ...                            ...  \n",
       "387                    90 downs                    76.00 downs  \n",
       "388                    90 downs                    78.00 downs  \n",
       "389                    70 downs                    73.64 downs  \n",
       "390                    52 downs                    78.83 downs  \n",
       "391                    33 downs                    64.83 downs  \n",
       "\n",
       "[392 rows x 18 columns]"
      ]
     },
     "execution_count": 176,
     "metadata": {},
     "output_type": "execute_result"
    }
   ],
   "source": [
    "df"
   ]
  },
  {
   "cell_type": "code",
   "execution_count": 177,
   "metadata": {},
   "outputs": [
    {
     "data": {
      "text/plain": [
       "array(['Washington Redskins', 'San Diego Chargers', 'Buffalo Bills',\n",
       "       'New England Patriots', 'Chicago Bears', 'Indianapolis Colts',\n",
       "       'Baltimore Ravens', 'Seattle Seahawks', 'Cincinnati Bengals',\n",
       "       'Houston Texans', 'Green Bay Packers', 'Oakland Raiders',\n",
       "       'Cleveland Browns', 'San Francisco 49ers', 'Philadelphia Eagles',\n",
       "       'Atlanta Falcons', 'New York Jets', 'Minnesota Vikings',\n",
       "       'Denver Broncos', 'Jacksonville Jaguars', 'New Orleans Saints',\n",
       "       'Detroit Lions', 'New York Giants', 'Arizona Cardinals',\n",
       "       'Pittsburgh Steelers', 'Miami Dolphins', 'Dallas Cowboys',\n",
       "       'Tennessee Titans', 'Kansas City Chiefs', 'Carolina Panthers',\n",
       "       'St. Louis Rams', 'Tampa Bay Buccaneers'], dtype=object)"
      ]
     },
     "execution_count": 177,
     "metadata": {},
     "output_type": "execute_result"
    }
   ],
   "source": [
    "df.Team.unique()"
   ]
  },
  {
   "cell_type": "code",
   "execution_count": 178,
   "metadata": {},
   "outputs": [],
   "source": [
    "nfl_teams = [\n",
    "    'Washington Redskins', 'San Diego Chargers', 'Buffalo Bills',\n",
    "    'New England Patriots', 'Chicago Bears', 'Indianapolis Colts',\n",
    "    'Baltimore Ravens', 'Seattle Seahawks', 'Cincinnati Bengals',\n",
    "    'Houston Texans', 'Green Bay Packers', 'Oakland Raiders',\n",
    "    'Cleveland Browns', 'San Francisco 49ers', 'Philadelphia Eagles',\n",
    "    'Atlanta Falcons', 'New York Jets', 'Minnesota Vikings',\n",
    "    'Denver Broncos', 'Jacksonville Jaguars', 'New Orleans Saints',\n",
    "    'Detroit Lions', 'New York Giants', 'Arizona Cardinals',\n",
    "    'Pittsburgh Steelers', 'Miami Dolphins', 'Dallas Cowboys',\n",
    "    'Tennessee Titans', 'Kansas City Chiefs', 'Carolina Panthers',\n",
    "    'St. Louis Rams', 'Tampa Bay Buccaneers'\n",
    "]\n",
    "\n",
    "nfl_teams_states = {\n",
    "    'Washington Redskins': 'DC',  \n",
    "    'San Diego Chargers': 'CA',  \n",
    "    'Buffalo Bills': 'NY',\n",
    "    'New England Patriots': 'MA',\n",
    "    'Chicago Bears': 'IL',\n",
    "    'Indianapolis Colts': 'IN',\n",
    "    'Baltimore Ravens': 'MD',\n",
    "    'Seattle Seahawks': 'WA',\n",
    "    'Cincinnati Bengals': 'OH',\n",
    "    'Houston Texans': 'TX',\n",
    "    'Green Bay Packers': 'WI',\n",
    "    'Oakland Raiders': 'CA',  \n",
    "    'Cleveland Browns': 'OH',\n",
    "    'San Francisco 49ers': 'CA',\n",
    "    'Philadelphia Eagles': 'PA',\n",
    "    'Atlanta Falcons': 'GA',\n",
    "    'New York Jets': 'NY',\n",
    "    'Minnesota Vikings': 'MN',\n",
    "    'Denver Broncos': 'CO',\n",
    "    'Jacksonville Jaguars': 'FL',\n",
    "    'New Orleans Saints': 'LA',\n",
    "    'Detroit Lions': 'MI',\n",
    "    'New York Giants': 'NY',\n",
    "    'Arizona Cardinals': 'AZ',\n",
    "    'Pittsburgh Steelers': 'PA',\n",
    "    'Miami Dolphins': 'FL',\n",
    "    'Dallas Cowboys': 'TX',\n",
    "    'Tennessee Titans': 'TN',\n",
    "    'Kansas City Chiefs': 'MO',\n",
    "    'Carolina Panthers': 'NC',\n",
    "    'St. Louis Rams': 'MO',  \n",
    "    'Tampa Bay Buccaneers': 'FL'\n",
    "}\n"
   ]
  },
  {
   "cell_type": "code",
   "execution_count": 179,
   "metadata": {},
   "outputs": [
    {
     "data": {
      "text/plain": [
       "{'Washington Redskins': 'DC',\n",
       " 'San Diego Chargers': 'CA',\n",
       " 'Buffalo Bills': 'NY',\n",
       " 'New England Patriots': 'MA',\n",
       " 'Chicago Bears': 'IL',\n",
       " 'Indianapolis Colts': 'IN',\n",
       " 'Baltimore Ravens': 'MD',\n",
       " 'Seattle Seahawks': 'WA',\n",
       " 'Cincinnati Bengals': 'OH',\n",
       " 'Houston Texans': 'TX',\n",
       " 'Green Bay Packers': 'WI',\n",
       " 'Oakland Raiders': 'CA',\n",
       " 'Cleveland Browns': 'OH',\n",
       " 'San Francisco 49ers': 'CA',\n",
       " 'Philadelphia Eagles': 'PA',\n",
       " 'Atlanta Falcons': 'GA',\n",
       " 'New York Jets': 'NY',\n",
       " 'Minnesota Vikings': 'MN',\n",
       " 'Denver Broncos': 'CO',\n",
       " 'Jacksonville Jaguars': 'FL',\n",
       " 'New Orleans Saints': 'LA',\n",
       " 'Detroit Lions': 'MI',\n",
       " 'New York Giants': 'NY',\n",
       " 'Arizona Cardinals': 'AZ',\n",
       " 'Pittsburgh Steelers': 'PA',\n",
       " 'Miami Dolphins': 'FL',\n",
       " 'Dallas Cowboys': 'TX',\n",
       " 'Tennessee Titans': 'TN',\n",
       " 'Kansas City Chiefs': 'MO',\n",
       " 'Carolina Panthers': 'NC',\n",
       " 'St. Louis Rams': 'MO',\n",
       " 'Tampa Bay Buccaneers': 'FL'}"
      ]
     },
     "execution_count": 179,
     "metadata": {},
     "output_type": "execute_result"
    }
   ],
   "source": [
    "nfl_teams_states"
   ]
  },
  {
   "cell_type": "code",
   "execution_count": 180,
   "metadata": {},
   "outputs": [],
   "source": [
    "df['stateAb'] = df.apply(lambda x: nfl_teams_states[x[\"Team\"]], axis=1)"
   ]
  },
  {
   "cell_type": "code",
   "execution_count": 181,
   "metadata": {},
   "outputs": [
    {
     "data": {
      "text/html": [
       "<div>\n",
       "<style scoped>\n",
       "    .dataframe tbody tr th:only-of-type {\n",
       "        vertical-align: middle;\n",
       "    }\n",
       "\n",
       "    .dataframe tbody tr th {\n",
       "        vertical-align: top;\n",
       "    }\n",
       "\n",
       "    .dataframe thead th {\n",
       "        text-align: right;\n",
       "    }\n",
       "</style>\n",
       "<table border=\"1\" class=\"dataframe\">\n",
       "  <thead>\n",
       "    <tr style=\"text-align: right;\">\n",
       "      <th></th>\n",
       "      <th>ID</th>\n",
       "      <th>Player</th>\n",
       "      <th>Team</th>\n",
       "      <th>Game</th>\n",
       "      <th>Date</th>\n",
       "      <th>Opposing Team</th>\n",
       "      <th>Position</th>\n",
       "      <th>Pre-Season Injury?</th>\n",
       "      <th>Winning Team?</th>\n",
       "      <th>Week of Injury</th>\n",
       "      <th>Season</th>\n",
       "      <th>Weeks Injured</th>\n",
       "      <th>Games Missed</th>\n",
       "      <th>Unknown Injury?</th>\n",
       "      <th>Reported Injury Type</th>\n",
       "      <th>Total Snaps</th>\n",
       "      <th>Play Time After Injury</th>\n",
       "      <th>Average Playtime Before Injury</th>\n",
       "      <th>stateAb</th>\n",
       "    </tr>\n",
       "  </thead>\n",
       "  <tbody>\n",
       "    <tr>\n",
       "      <th>0</th>\n",
       "      <td>Aldrick Robinson - Washington Redskins vs. Tam...</td>\n",
       "      <td>Aldrick Robinson</td>\n",
       "      <td>Washington Redskins</td>\n",
       "      <td>Washington Redskins vs. Tampa Bay Buccaneers (...</td>\n",
       "      <td>30/09/2012</td>\n",
       "      <td>Tampa Bay Buccaneers</td>\n",
       "      <td>Wide Receiver</td>\n",
       "      <td>No</td>\n",
       "      <td>Yes</td>\n",
       "      <td>4</td>\n",
       "      <td>2012/2013</td>\n",
       "      <td>1</td>\n",
       "      <td>1.0</td>\n",
       "      <td>No</td>\n",
       "      <td>Head</td>\n",
       "      <td>0</td>\n",
       "      <td>14 downs</td>\n",
       "      <td>37.00 downs</td>\n",
       "      <td>DC</td>\n",
       "    </tr>\n",
       "    <tr>\n",
       "      <th>1</th>\n",
       "      <td>D.J. Fluker - Tennessee Titans vs. San Diego C...</td>\n",
       "      <td>D.J. Fluker</td>\n",
       "      <td>San Diego Chargers</td>\n",
       "      <td>Tennessee Titans vs. San Diego Chargers (22/9/...</td>\n",
       "      <td>22/09/2013</td>\n",
       "      <td>Tennessee Titans</td>\n",
       "      <td>Offensive Tackle</td>\n",
       "      <td>No</td>\n",
       "      <td>No</td>\n",
       "      <td>3</td>\n",
       "      <td>2013/2014</td>\n",
       "      <td>1</td>\n",
       "      <td>1.0</td>\n",
       "      <td>No</td>\n",
       "      <td>Concussion</td>\n",
       "      <td>0</td>\n",
       "      <td>78 downs</td>\n",
       "      <td>73.50 downs</td>\n",
       "      <td>CA</td>\n",
       "    </tr>\n",
       "    <tr>\n",
       "      <th>2</th>\n",
       "      <td>Marquise Goodwin - Houston Texans vs. Buffalo ...</td>\n",
       "      <td>Marquise Goodwin</td>\n",
       "      <td>Buffalo Bills</td>\n",
       "      <td>Houston Texans vs. Buffalo Bills (28/9/2014)</td>\n",
       "      <td>28/09/2014</td>\n",
       "      <td>Houston Texans</td>\n",
       "      <td>Wide Receiver</td>\n",
       "      <td>No</td>\n",
       "      <td>No</td>\n",
       "      <td>4</td>\n",
       "      <td>2014/2015</td>\n",
       "      <td>1</td>\n",
       "      <td>1.0</td>\n",
       "      <td>No</td>\n",
       "      <td>Concussion</td>\n",
       "      <td>0</td>\n",
       "      <td>25 downs</td>\n",
       "      <td>17.50 downs</td>\n",
       "      <td>NY</td>\n",
       "    </tr>\n",
       "    <tr>\n",
       "      <th>3</th>\n",
       "      <td>Bryan Stork - New England Patriots vs. Buffalo...</td>\n",
       "      <td>Bryan Stork</td>\n",
       "      <td>New England Patriots</td>\n",
       "      <td>New England Patriots vs. Buffalo Bills (12/10/...</td>\n",
       "      <td>12/10/2014</td>\n",
       "      <td>Buffalo Bills</td>\n",
       "      <td>Center</td>\n",
       "      <td>No</td>\n",
       "      <td>Yes</td>\n",
       "      <td>6</td>\n",
       "      <td>2014/2015</td>\n",
       "      <td>1</td>\n",
       "      <td>1.0</td>\n",
       "      <td>No</td>\n",
       "      <td>Head</td>\n",
       "      <td>0</td>\n",
       "      <td>82 downs</td>\n",
       "      <td>41.50 downs</td>\n",
       "      <td>MA</td>\n",
       "    </tr>\n",
       "    <tr>\n",
       "      <th>4</th>\n",
       "      <td>Lorenzo Booker - Chicago Bears vs. Indianapoli...</td>\n",
       "      <td>Lorenzo Booker</td>\n",
       "      <td>Chicago Bears</td>\n",
       "      <td>Chicago Bears vs. Indianapolis Colts (9/9/2012)</td>\n",
       "      <td>9/09/2012</td>\n",
       "      <td>Indianapolis Colts</td>\n",
       "      <td>Running Back</td>\n",
       "      <td>Yes</td>\n",
       "      <td>Yes</td>\n",
       "      <td>1</td>\n",
       "      <td>2012/2013</td>\n",
       "      <td>0</td>\n",
       "      <td>NaN</td>\n",
       "      <td>No</td>\n",
       "      <td>Head</td>\n",
       "      <td>0</td>\n",
       "      <td>Did not return from injury</td>\n",
       "      <td>NaN</td>\n",
       "      <td>IL</td>\n",
       "    </tr>\n",
       "    <tr>\n",
       "      <th>...</th>\n",
       "      <td>...</td>\n",
       "      <td>...</td>\n",
       "      <td>...</td>\n",
       "      <td>...</td>\n",
       "      <td>...</td>\n",
       "      <td>...</td>\n",
       "      <td>...</td>\n",
       "      <td>...</td>\n",
       "      <td>...</td>\n",
       "      <td>...</td>\n",
       "      <td>...</td>\n",
       "      <td>...</td>\n",
       "      <td>...</td>\n",
       "      <td>...</td>\n",
       "      <td>...</td>\n",
       "      <td>...</td>\n",
       "      <td>...</td>\n",
       "      <td>...</td>\n",
       "      <td>...</td>\n",
       "    </tr>\n",
       "    <tr>\n",
       "      <th>387</th>\n",
       "      <td>Eric Weddle - Baltimore Ravens vs. San Diego C...</td>\n",
       "      <td>Eric Weddle</td>\n",
       "      <td>San Diego Chargers</td>\n",
       "      <td>Baltimore Ravens vs. San Diego Chargers (25/11...</td>\n",
       "      <td>25/11/2012</td>\n",
       "      <td>Baltimore Ravens</td>\n",
       "      <td>Safety</td>\n",
       "      <td>No</td>\n",
       "      <td>No</td>\n",
       "      <td>12</td>\n",
       "      <td>2012/2013</td>\n",
       "      <td>1</td>\n",
       "      <td>0.0</td>\n",
       "      <td>No</td>\n",
       "      <td>Concussion</td>\n",
       "      <td>85</td>\n",
       "      <td>90 downs</td>\n",
       "      <td>76.00 downs</td>\n",
       "      <td>CA</td>\n",
       "    </tr>\n",
       "    <tr>\n",
       "      <th>388</th>\n",
       "      <td>Blidi Wreh-Wilson - Indianapolis Colts vs. Ten...</td>\n",
       "      <td>Blidi Wreh-Wilson</td>\n",
       "      <td>Tennessee Titans</td>\n",
       "      <td>Indianapolis Colts vs. Tennessee Titans (28/9/...</td>\n",
       "      <td>28/09/2014</td>\n",
       "      <td>Indianapolis Colts</td>\n",
       "      <td>Comerback</td>\n",
       "      <td>No</td>\n",
       "      <td>No</td>\n",
       "      <td>4</td>\n",
       "      <td>2014/2015</td>\n",
       "      <td>1</td>\n",
       "      <td>1.0</td>\n",
       "      <td>No</td>\n",
       "      <td>Concussion</td>\n",
       "      <td>85</td>\n",
       "      <td>90 downs</td>\n",
       "      <td>78.00 downs</td>\n",
       "      <td>TN</td>\n",
       "    </tr>\n",
       "    <tr>\n",
       "      <th>389</th>\n",
       "      <td>Josh Sitton - Green Bay Packers vs. Tennessee ...</td>\n",
       "      <td>Josh Sitton</td>\n",
       "      <td>Green Bay Packers</td>\n",
       "      <td>Green Bay Packers vs. Tennessee Titans (23/12/...</td>\n",
       "      <td>23/12/2012</td>\n",
       "      <td>Tennessee Titans</td>\n",
       "      <td>Guard</td>\n",
       "      <td>No</td>\n",
       "      <td>Yes</td>\n",
       "      <td>16</td>\n",
       "      <td>2012/2013</td>\n",
       "      <td>1</td>\n",
       "      <td>0.0</td>\n",
       "      <td>No</td>\n",
       "      <td>Concussion</td>\n",
       "      <td>87</td>\n",
       "      <td>70 downs</td>\n",
       "      <td>73.64 downs</td>\n",
       "      <td>WI</td>\n",
       "    </tr>\n",
       "    <tr>\n",
       "      <th>390</th>\n",
       "      <td>Nate Solder - New England Patriots vs. Clevela...</td>\n",
       "      <td>Nate Solder</td>\n",
       "      <td>New England Patriots</td>\n",
       "      <td>New England Patriots vs. Cleveland Browns (8/1...</td>\n",
       "      <td>8/12/2013</td>\n",
       "      <td>Cleveland Browns</td>\n",
       "      <td>Offensive Tackle</td>\n",
       "      <td>No</td>\n",
       "      <td>Yes</td>\n",
       "      <td>14</td>\n",
       "      <td>2013/2014</td>\n",
       "      <td>1</td>\n",
       "      <td>0.0</td>\n",
       "      <td>No</td>\n",
       "      <td>Concussion</td>\n",
       "      <td>87</td>\n",
       "      <td>52 downs</td>\n",
       "      <td>78.83 downs</td>\n",
       "      <td>MA</td>\n",
       "    </tr>\n",
       "    <tr>\n",
       "      <th>391</th>\n",
       "      <td>Tony Jefferson - Arizona Cardinals vs. Philade...</td>\n",
       "      <td>Tony Jefferson</td>\n",
       "      <td>Arizona Cardinals</td>\n",
       "      <td>Arizona Cardinals vs. Philadelphia Eagles (26/...</td>\n",
       "      <td>26/10/2014</td>\n",
       "      <td>Philadelphia Eagles</td>\n",
       "      <td>Safety</td>\n",
       "      <td>No</td>\n",
       "      <td>Yes</td>\n",
       "      <td>8</td>\n",
       "      <td>2014/2015</td>\n",
       "      <td>1</td>\n",
       "      <td>0.0</td>\n",
       "      <td>No</td>\n",
       "      <td>Concussion</td>\n",
       "      <td>93</td>\n",
       "      <td>33 downs</td>\n",
       "      <td>64.83 downs</td>\n",
       "      <td>AZ</td>\n",
       "    </tr>\n",
       "  </tbody>\n",
       "</table>\n",
       "<p>392 rows × 19 columns</p>\n",
       "</div>"
      ],
      "text/plain": [
       "                                                    ID             Player  \\\n",
       "0    Aldrick Robinson - Washington Redskins vs. Tam...   Aldrick Robinson   \n",
       "1    D.J. Fluker - Tennessee Titans vs. San Diego C...        D.J. Fluker   \n",
       "2    Marquise Goodwin - Houston Texans vs. Buffalo ...   Marquise Goodwin   \n",
       "3    Bryan Stork - New England Patriots vs. Buffalo...        Bryan Stork   \n",
       "4    Lorenzo Booker - Chicago Bears vs. Indianapoli...     Lorenzo Booker   \n",
       "..                                                 ...                ...   \n",
       "387  Eric Weddle - Baltimore Ravens vs. San Diego C...        Eric Weddle   \n",
       "388  Blidi Wreh-Wilson - Indianapolis Colts vs. Ten...  Blidi Wreh-Wilson   \n",
       "389  Josh Sitton - Green Bay Packers vs. Tennessee ...        Josh Sitton   \n",
       "390  Nate Solder - New England Patriots vs. Clevela...        Nate Solder   \n",
       "391  Tony Jefferson - Arizona Cardinals vs. Philade...     Tony Jefferson   \n",
       "\n",
       "                     Team                                               Game  \\\n",
       "0     Washington Redskins  Washington Redskins vs. Tampa Bay Buccaneers (...   \n",
       "1      San Diego Chargers  Tennessee Titans vs. San Diego Chargers (22/9/...   \n",
       "2           Buffalo Bills       Houston Texans vs. Buffalo Bills (28/9/2014)   \n",
       "3    New England Patriots  New England Patriots vs. Buffalo Bills (12/10/...   \n",
       "4           Chicago Bears    Chicago Bears vs. Indianapolis Colts (9/9/2012)   \n",
       "..                    ...                                                ...   \n",
       "387    San Diego Chargers  Baltimore Ravens vs. San Diego Chargers (25/11...   \n",
       "388      Tennessee Titans  Indianapolis Colts vs. Tennessee Titans (28/9/...   \n",
       "389     Green Bay Packers  Green Bay Packers vs. Tennessee Titans (23/12/...   \n",
       "390  New England Patriots  New England Patriots vs. Cleveland Browns (8/1...   \n",
       "391     Arizona Cardinals  Arizona Cardinals vs. Philadelphia Eagles (26/...   \n",
       "\n",
       "           Date         Opposing Team          Position Pre-Season Injury?  \\\n",
       "0    30/09/2012  Tampa Bay Buccaneers     Wide Receiver                 No   \n",
       "1    22/09/2013      Tennessee Titans  Offensive Tackle                 No   \n",
       "2    28/09/2014        Houston Texans     Wide Receiver                 No   \n",
       "3    12/10/2014         Buffalo Bills            Center                 No   \n",
       "4     9/09/2012    Indianapolis Colts      Running Back                Yes   \n",
       "..          ...                   ...               ...                ...   \n",
       "387  25/11/2012      Baltimore Ravens            Safety                 No   \n",
       "388  28/09/2014    Indianapolis Colts         Comerback                 No   \n",
       "389  23/12/2012      Tennessee Titans             Guard                 No   \n",
       "390   8/12/2013      Cleveland Browns  Offensive Tackle                 No   \n",
       "391  26/10/2014   Philadelphia Eagles            Safety                 No   \n",
       "\n",
       "    Winning Team?  Week of Injury     Season  Weeks Injured  Games Missed  \\\n",
       "0             Yes               4  2012/2013              1           1.0   \n",
       "1              No               3  2013/2014              1           1.0   \n",
       "2              No               4  2014/2015              1           1.0   \n",
       "3             Yes               6  2014/2015              1           1.0   \n",
       "4             Yes               1  2012/2013              0           NaN   \n",
       "..            ...             ...        ...            ...           ...   \n",
       "387            No              12  2012/2013              1           0.0   \n",
       "388            No               4  2014/2015              1           1.0   \n",
       "389           Yes              16  2012/2013              1           0.0   \n",
       "390           Yes              14  2013/2014              1           0.0   \n",
       "391           Yes               8  2014/2015              1           0.0   \n",
       "\n",
       "    Unknown Injury? Reported Injury Type  Total Snaps  \\\n",
       "0                No                 Head            0   \n",
       "1                No           Concussion            0   \n",
       "2                No           Concussion            0   \n",
       "3                No                 Head            0   \n",
       "4                No                 Head            0   \n",
       "..              ...                  ...          ...   \n",
       "387              No           Concussion           85   \n",
       "388              No           Concussion           85   \n",
       "389              No           Concussion           87   \n",
       "390              No           Concussion           87   \n",
       "391              No           Concussion           93   \n",
       "\n",
       "         Play Time After Injury Average Playtime Before Injury stateAb  \n",
       "0                      14 downs                    37.00 downs      DC  \n",
       "1                      78 downs                    73.50 downs      CA  \n",
       "2                      25 downs                    17.50 downs      NY  \n",
       "3                      82 downs                    41.50 downs      MA  \n",
       "4    Did not return from injury                            NaN      IL  \n",
       "..                          ...                            ...     ...  \n",
       "387                    90 downs                    76.00 downs      CA  \n",
       "388                    90 downs                    78.00 downs      TN  \n",
       "389                    70 downs                    73.64 downs      WI  \n",
       "390                    52 downs                    78.83 downs      MA  \n",
       "391                    33 downs                    64.83 downs      AZ  \n",
       "\n",
       "[392 rows x 19 columns]"
      ]
     },
     "execution_count": 181,
     "metadata": {},
     "output_type": "execute_result"
    }
   ],
   "source": [
    "df"
   ]
  },
  {
   "cell_type": "code",
   "execution_count": 273,
   "metadata": {},
   "outputs": [
    {
     "name": "stdout",
     "output_type": "stream",
     "text": [
      "   stateAb  concussions\n",
      "0       AZ           10\n",
      "1       CA           15\n",
      "2       CO           12\n",
      "3       DC           13\n",
      "4       FL           11\n",
      "5       GA            6\n",
      "6       IL            9\n",
      "7       IN           16\n",
      "8       LA           11\n",
      "9       MA           13\n",
      "10      MD           15\n",
      "11      MI           13\n",
      "12      MN           13\n",
      "13      MO           14\n",
      "14      NC            8\n",
      "15      NY            9\n",
      "16      OH           22\n",
      "17      PA           10\n",
      "18      TN           11\n",
      "19      TX           10\n",
      "20      WA           12\n",
      "21      WI           13\n"
     ]
    }
   ],
   "source": [
    "unique_teams_per_state = df.groupby('stateAb')['Team'].nunique()\n",
    "\n",
    "total_entries_per_state = df.groupby('stateAb').size()\n",
    "\n",
    "calculation_result = (total_entries_per_state / unique_teams_per_state).round().astype(int)\n",
    "df2 = calculation_result.reset_index(name='concussions')\n",
    "\n",
    "print(df2)"
   ]
  },
  {
   "cell_type": "code",
   "execution_count": 274,
   "metadata": {},
   "outputs": [],
   "source": [
    "for col in df2.columns:\n",
    "    df2[col] = df2[col].astype(str)\n",
    "\n",
    "df2['text'] = \"Concussion: \"+ df2['concussions']"
   ]
  },
  {
   "cell_type": "code",
   "execution_count": 275,
   "metadata": {},
   "outputs": [],
   "source": [
    "# nflStates = set(df2[\"stateAb\"].unique())\n",
    "\n",
    "# allStates = {\n",
    "#     'AL', 'AK', 'AZ', 'AR', 'CA', 'CO', 'CT', 'DE', 'FL', 'GA', \n",
    "#     'HI', 'ID', 'IL', 'IN', 'IA', 'KS', 'KY', 'LA', 'ME', 'MD', \n",
    "#     'MA', 'MI', 'MN', 'MS', 'MO', 'MT', 'NE', 'NV', 'NH', 'NJ', \n",
    "#     'NM', 'NY', 'NC', 'ND', 'OH', 'OK', 'OR', 'PA', 'RI', 'SC', \n",
    "#     'SD', 'TN', 'TX', 'UT', 'VT', 'VA', 'WA', 'WV', 'WI', 'WY'\n",
    "# }\n",
    "\n",
    "# nonNflStates = allStates-nflStates\n",
    "\n",
    "# nonNflStates\n",
    "\n",
    "# for state in nonNflStates:\n",
    "#     df2.loc[len(df2)] = [state, 0, \"Concussion: 0\"]\n",
    "\n",
    "\n",
    "# df2\n"
   ]
  },
  {
   "cell_type": "code",
   "execution_count": 276,
   "metadata": {},
   "outputs": [],
   "source": [
    "for col in df2.columns:\n",
    "    df2[col] = df2[col].astype(str)"
   ]
  },
  {
   "cell_type": "code",
   "execution_count": 282,
   "metadata": {},
   "outputs": [],
   "source": [
    "fig = go.Figure(data=go.Choropleth(\n",
    "    locations=df2['stateAb'],\n",
    "    z=df2['concussions'].astype(float),\n",
    "    locationmode='USA-states',\n",
    "    colorscale='Peach',\n",
    "    autocolorscale=False,\n",
    "    text=df2['text'], \n",
    "    marker_line_color='black', \n",
    "    colorbar_title=\"Number of Concussions\"\n",
    "    \n",
    "))"
   ]
  },
  {
   "cell_type": "code",
   "execution_count": 283,
   "metadata": {},
   "outputs": [
    {
     "data": {
      "application/vnd.plotly.v1+json": {
       "config": {
        "plotlyServerURL": "https://plot.ly"
       },
       "data": [
        {
         "autocolorscale": false,
         "colorbar": {
          "title": {
           "text": "Number of Concussions"
          }
         },
         "colorscale": [
          [
           0,
           "rgb(253, 224, 197)"
          ],
          [
           0.16666666666666666,
           "rgb(250, 203, 166)"
          ],
          [
           0.3333333333333333,
           "rgb(248, 181, 139)"
          ],
          [
           0.5,
           "rgb(245, 158, 114)"
          ],
          [
           0.6666666666666666,
           "rgb(242, 133, 93)"
          ],
          [
           0.8333333333333334,
           "rgb(239, 106, 76)"
          ],
          [
           1,
           "rgb(235, 74, 64)"
          ]
         ],
         "locationmode": "USA-states",
         "locations": [
          "AZ",
          "CA",
          "CO",
          "DC",
          "FL",
          "GA",
          "IL",
          "IN",
          "LA",
          "MA",
          "MD",
          "MI",
          "MN",
          "MO",
          "NC",
          "NY",
          "OH",
          "PA",
          "TN",
          "TX",
          "WA",
          "WI"
         ],
         "marker": {
          "line": {
           "color": "black"
          }
         },
         "text": [
          "Concussion: 10",
          "Concussion: 15",
          "Concussion: 12",
          "Concussion: 13",
          "Concussion: 11",
          "Concussion: 6",
          "Concussion: 9",
          "Concussion: 16",
          "Concussion: 11",
          "Concussion: 13",
          "Concussion: 15",
          "Concussion: 13",
          "Concussion: 13",
          "Concussion: 14",
          "Concussion: 8",
          "Concussion: 9",
          "Concussion: 22",
          "Concussion: 10",
          "Concussion: 11",
          "Concussion: 10",
          "Concussion: 12",
          "Concussion: 13"
         ],
         "type": "choropleth",
         "z": [
          10,
          15,
          12,
          13,
          11,
          6,
          9,
          16,
          11,
          13,
          15,
          13,
          13,
          14,
          8,
          9,
          22,
          10,
          11,
          10,
          12,
          13
         ]
        }
       ],
       "layout": {
        "annotations": [
         {
          "align": "center",
          "font": {
           "size": 12
          },
          "showarrow": false,
          "text": "Light Blue - No NFL teams",
          "x": 0.5,
          "xref": "paper",
          "y": -0.15,
          "yref": "paper"
         }
        ],
        "geo": {
         "bgcolor": "white",
         "projection": {
          "type": "albers usa"
         },
         "scope": "usa",
         "showlakes": false
        },
        "template": {
         "data": {
          "bar": [
           {
            "error_x": {
             "color": "#2a3f5f"
            },
            "error_y": {
             "color": "#2a3f5f"
            },
            "marker": {
             "line": {
              "color": "#E5ECF6",
              "width": 0.5
             },
             "pattern": {
              "fillmode": "overlay",
              "size": 10,
              "solidity": 0.2
             }
            },
            "type": "bar"
           }
          ],
          "barpolar": [
           {
            "marker": {
             "line": {
              "color": "#E5ECF6",
              "width": 0.5
             },
             "pattern": {
              "fillmode": "overlay",
              "size": 10,
              "solidity": 0.2
             }
            },
            "type": "barpolar"
           }
          ],
          "carpet": [
           {
            "aaxis": {
             "endlinecolor": "#2a3f5f",
             "gridcolor": "white",
             "linecolor": "white",
             "minorgridcolor": "white",
             "startlinecolor": "#2a3f5f"
            },
            "baxis": {
             "endlinecolor": "#2a3f5f",
             "gridcolor": "white",
             "linecolor": "white",
             "minorgridcolor": "white",
             "startlinecolor": "#2a3f5f"
            },
            "type": "carpet"
           }
          ],
          "choropleth": [
           {
            "colorbar": {
             "outlinewidth": 0,
             "ticks": ""
            },
            "type": "choropleth"
           }
          ],
          "contour": [
           {
            "colorbar": {
             "outlinewidth": 0,
             "ticks": ""
            },
            "colorscale": [
             [
              0,
              "#0d0887"
             ],
             [
              0.1111111111111111,
              "#46039f"
             ],
             [
              0.2222222222222222,
              "#7201a8"
             ],
             [
              0.3333333333333333,
              "#9c179e"
             ],
             [
              0.4444444444444444,
              "#bd3786"
             ],
             [
              0.5555555555555556,
              "#d8576b"
             ],
             [
              0.6666666666666666,
              "#ed7953"
             ],
             [
              0.7777777777777778,
              "#fb9f3a"
             ],
             [
              0.8888888888888888,
              "#fdca26"
             ],
             [
              1,
              "#f0f921"
             ]
            ],
            "type": "contour"
           }
          ],
          "contourcarpet": [
           {
            "colorbar": {
             "outlinewidth": 0,
             "ticks": ""
            },
            "type": "contourcarpet"
           }
          ],
          "heatmap": [
           {
            "colorbar": {
             "outlinewidth": 0,
             "ticks": ""
            },
            "colorscale": [
             [
              0,
              "#0d0887"
             ],
             [
              0.1111111111111111,
              "#46039f"
             ],
             [
              0.2222222222222222,
              "#7201a8"
             ],
             [
              0.3333333333333333,
              "#9c179e"
             ],
             [
              0.4444444444444444,
              "#bd3786"
             ],
             [
              0.5555555555555556,
              "#d8576b"
             ],
             [
              0.6666666666666666,
              "#ed7953"
             ],
             [
              0.7777777777777778,
              "#fb9f3a"
             ],
             [
              0.8888888888888888,
              "#fdca26"
             ],
             [
              1,
              "#f0f921"
             ]
            ],
            "type": "heatmap"
           }
          ],
          "heatmapgl": [
           {
            "colorbar": {
             "outlinewidth": 0,
             "ticks": ""
            },
            "colorscale": [
             [
              0,
              "#0d0887"
             ],
             [
              0.1111111111111111,
              "#46039f"
             ],
             [
              0.2222222222222222,
              "#7201a8"
             ],
             [
              0.3333333333333333,
              "#9c179e"
             ],
             [
              0.4444444444444444,
              "#bd3786"
             ],
             [
              0.5555555555555556,
              "#d8576b"
             ],
             [
              0.6666666666666666,
              "#ed7953"
             ],
             [
              0.7777777777777778,
              "#fb9f3a"
             ],
             [
              0.8888888888888888,
              "#fdca26"
             ],
             [
              1,
              "#f0f921"
             ]
            ],
            "type": "heatmapgl"
           }
          ],
          "histogram": [
           {
            "marker": {
             "pattern": {
              "fillmode": "overlay",
              "size": 10,
              "solidity": 0.2
             }
            },
            "type": "histogram"
           }
          ],
          "histogram2d": [
           {
            "colorbar": {
             "outlinewidth": 0,
             "ticks": ""
            },
            "colorscale": [
             [
              0,
              "#0d0887"
             ],
             [
              0.1111111111111111,
              "#46039f"
             ],
             [
              0.2222222222222222,
              "#7201a8"
             ],
             [
              0.3333333333333333,
              "#9c179e"
             ],
             [
              0.4444444444444444,
              "#bd3786"
             ],
             [
              0.5555555555555556,
              "#d8576b"
             ],
             [
              0.6666666666666666,
              "#ed7953"
             ],
             [
              0.7777777777777778,
              "#fb9f3a"
             ],
             [
              0.8888888888888888,
              "#fdca26"
             ],
             [
              1,
              "#f0f921"
             ]
            ],
            "type": "histogram2d"
           }
          ],
          "histogram2dcontour": [
           {
            "colorbar": {
             "outlinewidth": 0,
             "ticks": ""
            },
            "colorscale": [
             [
              0,
              "#0d0887"
             ],
             [
              0.1111111111111111,
              "#46039f"
             ],
             [
              0.2222222222222222,
              "#7201a8"
             ],
             [
              0.3333333333333333,
              "#9c179e"
             ],
             [
              0.4444444444444444,
              "#bd3786"
             ],
             [
              0.5555555555555556,
              "#d8576b"
             ],
             [
              0.6666666666666666,
              "#ed7953"
             ],
             [
              0.7777777777777778,
              "#fb9f3a"
             ],
             [
              0.8888888888888888,
              "#fdca26"
             ],
             [
              1,
              "#f0f921"
             ]
            ],
            "type": "histogram2dcontour"
           }
          ],
          "mesh3d": [
           {
            "colorbar": {
             "outlinewidth": 0,
             "ticks": ""
            },
            "type": "mesh3d"
           }
          ],
          "parcoords": [
           {
            "line": {
             "colorbar": {
              "outlinewidth": 0,
              "ticks": ""
             }
            },
            "type": "parcoords"
           }
          ],
          "pie": [
           {
            "automargin": true,
            "type": "pie"
           }
          ],
          "scatter": [
           {
            "fillpattern": {
             "fillmode": "overlay",
             "size": 10,
             "solidity": 0.2
            },
            "type": "scatter"
           }
          ],
          "scatter3d": [
           {
            "line": {
             "colorbar": {
              "outlinewidth": 0,
              "ticks": ""
             }
            },
            "marker": {
             "colorbar": {
              "outlinewidth": 0,
              "ticks": ""
             }
            },
            "type": "scatter3d"
           }
          ],
          "scattercarpet": [
           {
            "marker": {
             "colorbar": {
              "outlinewidth": 0,
              "ticks": ""
             }
            },
            "type": "scattercarpet"
           }
          ],
          "scattergeo": [
           {
            "marker": {
             "colorbar": {
              "outlinewidth": 0,
              "ticks": ""
             }
            },
            "type": "scattergeo"
           }
          ],
          "scattergl": [
           {
            "marker": {
             "colorbar": {
              "outlinewidth": 0,
              "ticks": ""
             }
            },
            "type": "scattergl"
           }
          ],
          "scattermapbox": [
           {
            "marker": {
             "colorbar": {
              "outlinewidth": 0,
              "ticks": ""
             }
            },
            "type": "scattermapbox"
           }
          ],
          "scatterpolar": [
           {
            "marker": {
             "colorbar": {
              "outlinewidth": 0,
              "ticks": ""
             }
            },
            "type": "scatterpolar"
           }
          ],
          "scatterpolargl": [
           {
            "marker": {
             "colorbar": {
              "outlinewidth": 0,
              "ticks": ""
             }
            },
            "type": "scatterpolargl"
           }
          ],
          "scatterternary": [
           {
            "marker": {
             "colorbar": {
              "outlinewidth": 0,
              "ticks": ""
             }
            },
            "type": "scatterternary"
           }
          ],
          "surface": [
           {
            "colorbar": {
             "outlinewidth": 0,
             "ticks": ""
            },
            "colorscale": [
             [
              0,
              "#0d0887"
             ],
             [
              0.1111111111111111,
              "#46039f"
             ],
             [
              0.2222222222222222,
              "#7201a8"
             ],
             [
              0.3333333333333333,
              "#9c179e"
             ],
             [
              0.4444444444444444,
              "#bd3786"
             ],
             [
              0.5555555555555556,
              "#d8576b"
             ],
             [
              0.6666666666666666,
              "#ed7953"
             ],
             [
              0.7777777777777778,
              "#fb9f3a"
             ],
             [
              0.8888888888888888,
              "#fdca26"
             ],
             [
              1,
              "#f0f921"
             ]
            ],
            "type": "surface"
           }
          ],
          "table": [
           {
            "cells": {
             "fill": {
              "color": "#EBF0F8"
             },
             "line": {
              "color": "white"
             }
            },
            "header": {
             "fill": {
              "color": "#C8D4E3"
             },
             "line": {
              "color": "white"
             }
            },
            "type": "table"
           }
          ]
         },
         "layout": {
          "annotationdefaults": {
           "arrowcolor": "#2a3f5f",
           "arrowhead": 0,
           "arrowwidth": 1
          },
          "autotypenumbers": "strict",
          "coloraxis": {
           "colorbar": {
            "outlinewidth": 0,
            "ticks": ""
           }
          },
          "colorscale": {
           "diverging": [
            [
             0,
             "#8e0152"
            ],
            [
             0.1,
             "#c51b7d"
            ],
            [
             0.2,
             "#de77ae"
            ],
            [
             0.3,
             "#f1b6da"
            ],
            [
             0.4,
             "#fde0ef"
            ],
            [
             0.5,
             "#f7f7f7"
            ],
            [
             0.6,
             "#e6f5d0"
            ],
            [
             0.7,
             "#b8e186"
            ],
            [
             0.8,
             "#7fbc41"
            ],
            [
             0.9,
             "#4d9221"
            ],
            [
             1,
             "#276419"
            ]
           ],
           "sequential": [
            [
             0,
             "#0d0887"
            ],
            [
             0.1111111111111111,
             "#46039f"
            ],
            [
             0.2222222222222222,
             "#7201a8"
            ],
            [
             0.3333333333333333,
             "#9c179e"
            ],
            [
             0.4444444444444444,
             "#bd3786"
            ],
            [
             0.5555555555555556,
             "#d8576b"
            ],
            [
             0.6666666666666666,
             "#ed7953"
            ],
            [
             0.7777777777777778,
             "#fb9f3a"
            ],
            [
             0.8888888888888888,
             "#fdca26"
            ],
            [
             1,
             "#f0f921"
            ]
           ],
           "sequentialminus": [
            [
             0,
             "#0d0887"
            ],
            [
             0.1111111111111111,
             "#46039f"
            ],
            [
             0.2222222222222222,
             "#7201a8"
            ],
            [
             0.3333333333333333,
             "#9c179e"
            ],
            [
             0.4444444444444444,
             "#bd3786"
            ],
            [
             0.5555555555555556,
             "#d8576b"
            ],
            [
             0.6666666666666666,
             "#ed7953"
            ],
            [
             0.7777777777777778,
             "#fb9f3a"
            ],
            [
             0.8888888888888888,
             "#fdca26"
            ],
            [
             1,
             "#f0f921"
            ]
           ]
          },
          "colorway": [
           "#636efa",
           "#EF553B",
           "#00cc96",
           "#ab63fa",
           "#FFA15A",
           "#19d3f3",
           "#FF6692",
           "#B6E880",
           "#FF97FF",
           "#FECB52"
          ],
          "font": {
           "color": "#2a3f5f"
          },
          "geo": {
           "bgcolor": "white",
           "lakecolor": "white",
           "landcolor": "#E5ECF6",
           "showlakes": true,
           "showland": true,
           "subunitcolor": "white"
          },
          "hoverlabel": {
           "align": "left"
          },
          "hovermode": "closest",
          "mapbox": {
           "style": "light"
          },
          "paper_bgcolor": "white",
          "plot_bgcolor": "#E5ECF6",
          "polar": {
           "angularaxis": {
            "gridcolor": "white",
            "linecolor": "white",
            "ticks": ""
           },
           "bgcolor": "#E5ECF6",
           "radialaxis": {
            "gridcolor": "white",
            "linecolor": "white",
            "ticks": ""
           }
          },
          "scene": {
           "xaxis": {
            "backgroundcolor": "#E5ECF6",
            "gridcolor": "white",
            "gridwidth": 2,
            "linecolor": "white",
            "showbackground": true,
            "ticks": "",
            "zerolinecolor": "white"
           },
           "yaxis": {
            "backgroundcolor": "#E5ECF6",
            "gridcolor": "white",
            "gridwidth": 2,
            "linecolor": "white",
            "showbackground": true,
            "ticks": "",
            "zerolinecolor": "white"
           },
           "zaxis": {
            "backgroundcolor": "#E5ECF6",
            "gridcolor": "white",
            "gridwidth": 2,
            "linecolor": "white",
            "showbackground": true,
            "ticks": "",
            "zerolinecolor": "white"
           }
          },
          "shapedefaults": {
           "line": {
            "color": "#2a3f5f"
           }
          },
          "ternary": {
           "aaxis": {
            "gridcolor": "white",
            "linecolor": "white",
            "ticks": ""
           },
           "baxis": {
            "gridcolor": "white",
            "linecolor": "white",
            "ticks": ""
           },
           "bgcolor": "#E5ECF6",
           "caxis": {
            "gridcolor": "white",
            "linecolor": "white",
            "ticks": ""
           }
          },
          "title": {
           "x": 0.05
          },
          "xaxis": {
           "automargin": true,
           "gridcolor": "white",
           "linecolor": "white",
           "ticks": "",
           "title": {
            "standoff": 15
           },
           "zerolinecolor": "white",
           "zerolinewidth": 2
          },
          "yaxis": {
           "automargin": true,
           "gridcolor": "white",
           "linecolor": "white",
           "ticks": "",
           "title": {
            "standoff": 15
           },
           "zerolinecolor": "white",
           "zerolinewidth": 2
          }
         }
        },
        "title": {
         "text": "Average Number of NFL Concussion By Home State"
        }
       }
      }
     },
     "metadata": {},
     "output_type": "display_data"
    }
   ],
   "source": [
    "fig.add_annotation(\n",
    "    x=0.5,\n",
    "    y=-0.15,\n",
    "    xref='paper',\n",
    "    yref='paper',\n",
    "    showarrow=False,\n",
    "    text=\"Light Blue - No NFL teams\",\n",
    "    font=dict(size=12),\n",
    "    align=\"center\"\n",
    ")\n",
    "fig.update_layout(\n",
    "    title_text='Average Number of NFL Concussion By Home State',\n",
    "    geo = dict(\n",
    "        scope='usa',\n",
    "        projection=go.layout.geo.Projection(type = 'albers usa'),\n",
    "        showlakes=False, \n",
    "        bgcolor = \"white\"\n",
    "        \n",
    "        ),\n",
    ")\n",
    "\n",
    "fig.show()"
   ]
  },
  {
   "cell_type": "code",
   "execution_count": 284,
   "metadata": {},
   "outputs": [
    {
     "name": "stdout",
     "output_type": "stream",
     "text": [
      "   stateAb concussions            text  AveragePointsScored  stdFromMean  \\\n",
      "0       AZ          10  Concussion: 10                  313    -1.210955   \n",
      "1       CA          15  Concussion: 15                  341    -0.694728   \n",
      "2       CO          12  Concussion: 12                  523     2.660749   \n",
      "3       DC          13  Concussion: 13                  357    -0.399741   \n",
      "4       FL          11  Concussion: 11                  300    -1.450632   \n",
      "5       GA           6   Concussion: 6                  384     0.098050   \n",
      "6       IL           9   Concussion: 9                  380     0.024303   \n",
      "7       IN          16  Concussion: 16                  402     0.429910   \n",
      "8       LA          11  Concussion: 11                  425     0.853954   \n",
      "9       MA          13  Concussion: 13                  490     2.052338   \n",
      "10      MD          15  Concussion: 15                  376    -0.049444   \n",
      "11      MI          13  Concussion: 13                  363    -0.289121   \n",
      "12      MN          13  Concussion: 13                  365    -0.252247   \n",
      "13      MO          14  Concussion: 14                  328    -0.934405   \n",
      "14      NC           8   Concussion: 8                  354    -0.455051   \n",
      "15      NY           9   Concussion: 9                  331    -0.879095   \n",
      "16      OH          22  Concussion: 22                  349    -0.547234   \n",
      "17      PA          10  Concussion: 10                  391     0.227106   \n",
      "18      TN          11  Concussion: 11                  315    -1.174081   \n",
      "19      TX          10  Concussion: 10                  391     0.227106   \n",
      "20      WA          12  Concussion: 12                  408     0.540530   \n",
      "21      WI          13  Concussion: 13                  445     1.222687   \n",
      "\n",
      "    fitPoints  \n",
      "0   -0.883408  \n",
      "1   -0.632287  \n",
      "2    1.000000  \n",
      "3   -0.488789  \n",
      "4   -1.000000  \n",
      "5   -0.246637  \n",
      "6   -0.282511  \n",
      "7   -0.085202  \n",
      "8    0.121076  \n",
      "9    0.704036  \n",
      "10  -0.318386  \n",
      "11  -0.434978  \n",
      "12  -0.417040  \n",
      "13  -0.748879  \n",
      "14  -0.515695  \n",
      "15  -0.721973  \n",
      "16  -0.560538  \n",
      "17  -0.183857  \n",
      "18  -0.865471  \n",
      "19  -0.183857  \n",
      "20  -0.031390  \n",
      "21   0.300448  \n"
     ]
    },
    {
     "name": "stderr",
     "output_type": "stream",
     "text": [
      "/var/folders/06/535t6j8x0k71hd92gljsgt6h0000gn/T/ipykernel_30559/3163715014.py:37: SettingWithCopyWarning:\n",
      "\n",
      "\n",
      "A value is trying to be set on a copy of a slice from a DataFrame.\n",
      "Try using .loc[row_indexer,col_indexer] = value instead\n",
      "\n",
      "See the caveats in the documentation: https://pandas.pydata.org/pandas-docs/stable/user_guide/indexing.html#returning-a-view-versus-a-copy\n",
      "\n"
     ]
    }
   ],
   "source": [
    "nflStatsAbrv = {\n",
    "    'ARI': 'Arizona Cardinals',\n",
    "    'ATL': 'Atlanta Falcons',\n",
    "    'BAL': 'Baltimore Ravens',\n",
    "    'BUF': 'Buffalo Bills',\n",
    "    'CAR': 'Carolina Panthers',\n",
    "    'CHI': 'Chicago Bears',\n",
    "    'CIN': 'Cincinnati Bengals',\n",
    "    'CLE': 'Cleveland Browns',\n",
    "    'DAL': 'Dallas Cowboys',\n",
    "    'DEN': 'Denver Broncos',\n",
    "    'DET': 'Detroit Lions',\n",
    "    'GB': 'Green Bay Packers',\n",
    "    'IND': 'Indianapolis Colts',\n",
    "    'JAX': 'Jacksonville Jaguars',\n",
    "    'KC': 'Kansas City Chiefs',\n",
    "    'LA': 'St. Louis Rams',\n",
    "    'LAC': 'San Diego Chargers',\n",
    "    'LV': 'Oakland Raiders',\n",
    "    'MIA': 'Miami Dolphins',\n",
    "    'MIN': 'Minnesota Vikings',\n",
    "    'NE': 'New England Patriots',\n",
    "    'NO': 'New Orleans Saints',\n",
    "    'NYG': 'New York Giants',\n",
    "    'NYJ': 'New York Jets',\n",
    "    'PHI': 'Philadelphia Eagles',\n",
    "    'PIT': 'Pittsburgh Steelers',\n",
    "    'SEA': 'Seattle Seahawks',\n",
    "    'SF': 'San Francisco 49ers',\n",
    "    'TB': 'Tampa Bay Buccaneers',\n",
    "    'TEN': 'Tennessee Titans',\n",
    "    'WAS': 'Washington Redskins',\n",
    "    'HOU': 'Houston Texans'\n",
    "}\n",
    "nfl_teams_states2 = {key: nfl_teams_states[value] for key, value in nflStatsAbrv.items()}\n",
    "filtered_df = dfStats[dfStats['season'].isin([2012, 2013, 2014])]\n",
    "filtered_df['stateAb'] = filtered_df['team'].map(nfl_teams_states2)\n",
    "state_points = filtered_df.groupby('stateAb')['points_scored'].sum()\n",
    "teams_per_state = filtered_df.groupby('stateAb')['team'].nunique()\n",
    "average_points_per_team_per_year = (state_points / (teams_per_state * 3)).round().astype(int)\n",
    "result_df = average_points_per_team_per_year.reset_index(name='AveragePointsScored')\n",
    "\n",
    "\n",
    "\n",
    "combinedDF = pd.merge(df2, result_df, on='stateAb', how='inner')\n",
    "\n",
    "\n",
    "sumAvg = np.mean(combinedDF.AveragePointsScored)\n",
    "stdAvg = np.std(combinedDF.AveragePointsScored)\n",
    "combinedDF['stdFromMean'] = ((combinedDF.AveragePointsScored - sumAvg)/stdAvg)\n",
    "\n",
    "\n",
    "min_val = combinedDF['AveragePointsScored'].min()\n",
    "max_val = combinedDF['AveragePointsScored'].max()\n",
    "\n",
    "combinedDF['fitPoints'] = 2 * ((combinedDF['AveragePointsScored'] - min_val) / (max_val - min_val)) - 1\n",
    "\n",
    "print(combinedDF)"
   ]
  },
  {
   "cell_type": "code",
   "execution_count": 306,
   "metadata": {},
   "outputs": [],
   "source": [
    "\n",
    "\n",
    "fig = go.Figure(data=go.Choropleth(\n",
    "    locations=combinedDF['stateAb'],\n",
    "    z=combinedDF['fitPoints'].astype(float),\n",
    "    locationmode='USA-states',\n",
    "    colorscale= \"Reds\",\n",
    "    marker_line_color='black', \n",
    "    colorbar_title=\"Standardized Range\"\n",
    "))"
   ]
  },
  {
   "cell_type": "code",
   "execution_count": 308,
   "metadata": {},
   "outputs": [
    {
     "data": {
      "application/vnd.plotly.v1+json": {
       "config": {
        "plotlyServerURL": "https://plot.ly"
       },
       "data": [
        {
         "colorbar": {
          "title": {
           "text": "Standardized Range"
          }
         },
         "colorscale": [
          [
           0,
           "rgb(255,245,240)"
          ],
          [
           0.125,
           "rgb(254,224,210)"
          ],
          [
           0.25,
           "rgb(252,187,161)"
          ],
          [
           0.375,
           "rgb(252,146,114)"
          ],
          [
           0.5,
           "rgb(251,106,74)"
          ],
          [
           0.625,
           "rgb(239,59,44)"
          ],
          [
           0.75,
           "rgb(203,24,29)"
          ],
          [
           0.875,
           "rgb(165,15,21)"
          ],
          [
           1,
           "rgb(103,0,13)"
          ]
         ],
         "locationmode": "USA-states",
         "locations": [
          "AZ",
          "CA",
          "CO",
          "DC",
          "FL",
          "GA",
          "IL",
          "IN",
          "LA",
          "MA",
          "MD",
          "MI",
          "MN",
          "MO",
          "NC",
          "NY",
          "OH",
          "PA",
          "TN",
          "TX",
          "WA",
          "WI"
         ],
         "marker": {
          "line": {
           "color": "black"
          }
         },
         "type": "choropleth",
         "z": [
          -0.8834080717488789,
          -0.6322869955156951,
          1,
          -0.4887892376681614,
          -1,
          -0.24663677130044848,
          -0.2825112107623319,
          -0.08520179372197312,
          0.12107623318385641,
          0.7040358744394619,
          -0.3183856502242153,
          -0.43497757847533636,
          -0.4170403587443946,
          -0.7488789237668161,
          -0.5156950672645739,
          -0.7219730941704036,
          -0.5605381165919283,
          -0.18385650224215244,
          -0.8654708520179373,
          -0.18385650224215244,
          -0.03139013452914796,
          0.3004484304932735
         ]
        }
       ],
       "layout": {
        "annotations": [
         {
          "align": "center",
          "font": {
           "size": 12
          },
          "showarrow": false,
          "text": "Black Highlight - States with NFL teams",
          "x": 0.5,
          "xref": "paper",
          "y": -0.15,
          "yref": "paper"
         },
         {
          "align": "center",
          "font": {
           "size": 12
          },
          "showarrow": false,
          "text": "Black Highlight - States with NFL teams",
          "x": 0.5,
          "xref": "paper",
          "y": -0.15,
          "yref": "paper"
         }
        ],
        "geo": {
         "bgcolor": "Black",
         "projection": {
          "type": "albers usa"
         },
         "scope": "usa",
         "showlakes": false
        },
        "template": {
         "data": {
          "bar": [
           {
            "error_x": {
             "color": "#2a3f5f"
            },
            "error_y": {
             "color": "#2a3f5f"
            },
            "marker": {
             "line": {
              "color": "#E5ECF6",
              "width": 0.5
             },
             "pattern": {
              "fillmode": "overlay",
              "size": 10,
              "solidity": 0.2
             }
            },
            "type": "bar"
           }
          ],
          "barpolar": [
           {
            "marker": {
             "line": {
              "color": "#E5ECF6",
              "width": 0.5
             },
             "pattern": {
              "fillmode": "overlay",
              "size": 10,
              "solidity": 0.2
             }
            },
            "type": "barpolar"
           }
          ],
          "carpet": [
           {
            "aaxis": {
             "endlinecolor": "#2a3f5f",
             "gridcolor": "white",
             "linecolor": "white",
             "minorgridcolor": "white",
             "startlinecolor": "#2a3f5f"
            },
            "baxis": {
             "endlinecolor": "#2a3f5f",
             "gridcolor": "white",
             "linecolor": "white",
             "minorgridcolor": "white",
             "startlinecolor": "#2a3f5f"
            },
            "type": "carpet"
           }
          ],
          "choropleth": [
           {
            "colorbar": {
             "outlinewidth": 0,
             "ticks": ""
            },
            "type": "choropleth"
           }
          ],
          "contour": [
           {
            "colorbar": {
             "outlinewidth": 0,
             "ticks": ""
            },
            "colorscale": [
             [
              0,
              "#0d0887"
             ],
             [
              0.1111111111111111,
              "#46039f"
             ],
             [
              0.2222222222222222,
              "#7201a8"
             ],
             [
              0.3333333333333333,
              "#9c179e"
             ],
             [
              0.4444444444444444,
              "#bd3786"
             ],
             [
              0.5555555555555556,
              "#d8576b"
             ],
             [
              0.6666666666666666,
              "#ed7953"
             ],
             [
              0.7777777777777778,
              "#fb9f3a"
             ],
             [
              0.8888888888888888,
              "#fdca26"
             ],
             [
              1,
              "#f0f921"
             ]
            ],
            "type": "contour"
           }
          ],
          "contourcarpet": [
           {
            "colorbar": {
             "outlinewidth": 0,
             "ticks": ""
            },
            "type": "contourcarpet"
           }
          ],
          "heatmap": [
           {
            "colorbar": {
             "outlinewidth": 0,
             "ticks": ""
            },
            "colorscale": [
             [
              0,
              "#0d0887"
             ],
             [
              0.1111111111111111,
              "#46039f"
             ],
             [
              0.2222222222222222,
              "#7201a8"
             ],
             [
              0.3333333333333333,
              "#9c179e"
             ],
             [
              0.4444444444444444,
              "#bd3786"
             ],
             [
              0.5555555555555556,
              "#d8576b"
             ],
             [
              0.6666666666666666,
              "#ed7953"
             ],
             [
              0.7777777777777778,
              "#fb9f3a"
             ],
             [
              0.8888888888888888,
              "#fdca26"
             ],
             [
              1,
              "#f0f921"
             ]
            ],
            "type": "heatmap"
           }
          ],
          "heatmapgl": [
           {
            "colorbar": {
             "outlinewidth": 0,
             "ticks": ""
            },
            "colorscale": [
             [
              0,
              "#0d0887"
             ],
             [
              0.1111111111111111,
              "#46039f"
             ],
             [
              0.2222222222222222,
              "#7201a8"
             ],
             [
              0.3333333333333333,
              "#9c179e"
             ],
             [
              0.4444444444444444,
              "#bd3786"
             ],
             [
              0.5555555555555556,
              "#d8576b"
             ],
             [
              0.6666666666666666,
              "#ed7953"
             ],
             [
              0.7777777777777778,
              "#fb9f3a"
             ],
             [
              0.8888888888888888,
              "#fdca26"
             ],
             [
              1,
              "#f0f921"
             ]
            ],
            "type": "heatmapgl"
           }
          ],
          "histogram": [
           {
            "marker": {
             "pattern": {
              "fillmode": "overlay",
              "size": 10,
              "solidity": 0.2
             }
            },
            "type": "histogram"
           }
          ],
          "histogram2d": [
           {
            "colorbar": {
             "outlinewidth": 0,
             "ticks": ""
            },
            "colorscale": [
             [
              0,
              "#0d0887"
             ],
             [
              0.1111111111111111,
              "#46039f"
             ],
             [
              0.2222222222222222,
              "#7201a8"
             ],
             [
              0.3333333333333333,
              "#9c179e"
             ],
             [
              0.4444444444444444,
              "#bd3786"
             ],
             [
              0.5555555555555556,
              "#d8576b"
             ],
             [
              0.6666666666666666,
              "#ed7953"
             ],
             [
              0.7777777777777778,
              "#fb9f3a"
             ],
             [
              0.8888888888888888,
              "#fdca26"
             ],
             [
              1,
              "#f0f921"
             ]
            ],
            "type": "histogram2d"
           }
          ],
          "histogram2dcontour": [
           {
            "colorbar": {
             "outlinewidth": 0,
             "ticks": ""
            },
            "colorscale": [
             [
              0,
              "#0d0887"
             ],
             [
              0.1111111111111111,
              "#46039f"
             ],
             [
              0.2222222222222222,
              "#7201a8"
             ],
             [
              0.3333333333333333,
              "#9c179e"
             ],
             [
              0.4444444444444444,
              "#bd3786"
             ],
             [
              0.5555555555555556,
              "#d8576b"
             ],
             [
              0.6666666666666666,
              "#ed7953"
             ],
             [
              0.7777777777777778,
              "#fb9f3a"
             ],
             [
              0.8888888888888888,
              "#fdca26"
             ],
             [
              1,
              "#f0f921"
             ]
            ],
            "type": "histogram2dcontour"
           }
          ],
          "mesh3d": [
           {
            "colorbar": {
             "outlinewidth": 0,
             "ticks": ""
            },
            "type": "mesh3d"
           }
          ],
          "parcoords": [
           {
            "line": {
             "colorbar": {
              "outlinewidth": 0,
              "ticks": ""
             }
            },
            "type": "parcoords"
           }
          ],
          "pie": [
           {
            "automargin": true,
            "type": "pie"
           }
          ],
          "scatter": [
           {
            "fillpattern": {
             "fillmode": "overlay",
             "size": 10,
             "solidity": 0.2
            },
            "type": "scatter"
           }
          ],
          "scatter3d": [
           {
            "line": {
             "colorbar": {
              "outlinewidth": 0,
              "ticks": ""
             }
            },
            "marker": {
             "colorbar": {
              "outlinewidth": 0,
              "ticks": ""
             }
            },
            "type": "scatter3d"
           }
          ],
          "scattercarpet": [
           {
            "marker": {
             "colorbar": {
              "outlinewidth": 0,
              "ticks": ""
             }
            },
            "type": "scattercarpet"
           }
          ],
          "scattergeo": [
           {
            "marker": {
             "colorbar": {
              "outlinewidth": 0,
              "ticks": ""
             }
            },
            "type": "scattergeo"
           }
          ],
          "scattergl": [
           {
            "marker": {
             "colorbar": {
              "outlinewidth": 0,
              "ticks": ""
             }
            },
            "type": "scattergl"
           }
          ],
          "scattermapbox": [
           {
            "marker": {
             "colorbar": {
              "outlinewidth": 0,
              "ticks": ""
             }
            },
            "type": "scattermapbox"
           }
          ],
          "scatterpolar": [
           {
            "marker": {
             "colorbar": {
              "outlinewidth": 0,
              "ticks": ""
             }
            },
            "type": "scatterpolar"
           }
          ],
          "scatterpolargl": [
           {
            "marker": {
             "colorbar": {
              "outlinewidth": 0,
              "ticks": ""
             }
            },
            "type": "scatterpolargl"
           }
          ],
          "scatterternary": [
           {
            "marker": {
             "colorbar": {
              "outlinewidth": 0,
              "ticks": ""
             }
            },
            "type": "scatterternary"
           }
          ],
          "surface": [
           {
            "colorbar": {
             "outlinewidth": 0,
             "ticks": ""
            },
            "colorscale": [
             [
              0,
              "#0d0887"
             ],
             [
              0.1111111111111111,
              "#46039f"
             ],
             [
              0.2222222222222222,
              "#7201a8"
             ],
             [
              0.3333333333333333,
              "#9c179e"
             ],
             [
              0.4444444444444444,
              "#bd3786"
             ],
             [
              0.5555555555555556,
              "#d8576b"
             ],
             [
              0.6666666666666666,
              "#ed7953"
             ],
             [
              0.7777777777777778,
              "#fb9f3a"
             ],
             [
              0.8888888888888888,
              "#fdca26"
             ],
             [
              1,
              "#f0f921"
             ]
            ],
            "type": "surface"
           }
          ],
          "table": [
           {
            "cells": {
             "fill": {
              "color": "#EBF0F8"
             },
             "line": {
              "color": "white"
             }
            },
            "header": {
             "fill": {
              "color": "#C8D4E3"
             },
             "line": {
              "color": "white"
             }
            },
            "type": "table"
           }
          ]
         },
         "layout": {
          "annotationdefaults": {
           "arrowcolor": "#2a3f5f",
           "arrowhead": 0,
           "arrowwidth": 1
          },
          "autotypenumbers": "strict",
          "coloraxis": {
           "colorbar": {
            "outlinewidth": 0,
            "ticks": ""
           }
          },
          "colorscale": {
           "diverging": [
            [
             0,
             "#8e0152"
            ],
            [
             0.1,
             "#c51b7d"
            ],
            [
             0.2,
             "#de77ae"
            ],
            [
             0.3,
             "#f1b6da"
            ],
            [
             0.4,
             "#fde0ef"
            ],
            [
             0.5,
             "#f7f7f7"
            ],
            [
             0.6,
             "#e6f5d0"
            ],
            [
             0.7,
             "#b8e186"
            ],
            [
             0.8,
             "#7fbc41"
            ],
            [
             0.9,
             "#4d9221"
            ],
            [
             1,
             "#276419"
            ]
           ],
           "sequential": [
            [
             0,
             "#0d0887"
            ],
            [
             0.1111111111111111,
             "#46039f"
            ],
            [
             0.2222222222222222,
             "#7201a8"
            ],
            [
             0.3333333333333333,
             "#9c179e"
            ],
            [
             0.4444444444444444,
             "#bd3786"
            ],
            [
             0.5555555555555556,
             "#d8576b"
            ],
            [
             0.6666666666666666,
             "#ed7953"
            ],
            [
             0.7777777777777778,
             "#fb9f3a"
            ],
            [
             0.8888888888888888,
             "#fdca26"
            ],
            [
             1,
             "#f0f921"
            ]
           ],
           "sequentialminus": [
            [
             0,
             "#0d0887"
            ],
            [
             0.1111111111111111,
             "#46039f"
            ],
            [
             0.2222222222222222,
             "#7201a8"
            ],
            [
             0.3333333333333333,
             "#9c179e"
            ],
            [
             0.4444444444444444,
             "#bd3786"
            ],
            [
             0.5555555555555556,
             "#d8576b"
            ],
            [
             0.6666666666666666,
             "#ed7953"
            ],
            [
             0.7777777777777778,
             "#fb9f3a"
            ],
            [
             0.8888888888888888,
             "#fdca26"
            ],
            [
             1,
             "#f0f921"
            ]
           ]
          },
          "colorway": [
           "#636efa",
           "#EF553B",
           "#00cc96",
           "#ab63fa",
           "#FFA15A",
           "#19d3f3",
           "#FF6692",
           "#B6E880",
           "#FF97FF",
           "#FECB52"
          ],
          "font": {
           "color": "#2a3f5f"
          },
          "geo": {
           "bgcolor": "white",
           "lakecolor": "white",
           "landcolor": "#E5ECF6",
           "showlakes": true,
           "showland": true,
           "subunitcolor": "white"
          },
          "hoverlabel": {
           "align": "left"
          },
          "hovermode": "closest",
          "mapbox": {
           "style": "light"
          },
          "paper_bgcolor": "white",
          "plot_bgcolor": "#E5ECF6",
          "polar": {
           "angularaxis": {
            "gridcolor": "white",
            "linecolor": "white",
            "ticks": ""
           },
           "bgcolor": "#E5ECF6",
           "radialaxis": {
            "gridcolor": "white",
            "linecolor": "white",
            "ticks": ""
           }
          },
          "scene": {
           "xaxis": {
            "backgroundcolor": "#E5ECF6",
            "gridcolor": "white",
            "gridwidth": 2,
            "linecolor": "white",
            "showbackground": true,
            "ticks": "",
            "zerolinecolor": "white"
           },
           "yaxis": {
            "backgroundcolor": "#E5ECF6",
            "gridcolor": "white",
            "gridwidth": 2,
            "linecolor": "white",
            "showbackground": true,
            "ticks": "",
            "zerolinecolor": "white"
           },
           "zaxis": {
            "backgroundcolor": "#E5ECF6",
            "gridcolor": "white",
            "gridwidth": 2,
            "linecolor": "white",
            "showbackground": true,
            "ticks": "",
            "zerolinecolor": "white"
           }
          },
          "shapedefaults": {
           "line": {
            "color": "#2a3f5f"
           }
          },
          "ternary": {
           "aaxis": {
            "gridcolor": "white",
            "linecolor": "white",
            "ticks": ""
           },
           "baxis": {
            "gridcolor": "white",
            "linecolor": "white",
            "ticks": ""
           },
           "bgcolor": "#E5ECF6",
           "caxis": {
            "gridcolor": "white",
            "linecolor": "white",
            "ticks": ""
           }
          },
          "title": {
           "x": 0.05
          },
          "xaxis": {
           "automargin": true,
           "gridcolor": "white",
           "linecolor": "white",
           "ticks": "",
           "title": {
            "standoff": 15
           },
           "zerolinecolor": "white",
           "zerolinewidth": 2
          },
          "yaxis": {
           "automargin": true,
           "gridcolor": "white",
           "linecolor": "white",
           "ticks": "",
           "title": {
            "standoff": 15
           },
           "zerolinecolor": "white",
           "zerolinewidth": 2
          }
         }
        },
        "title": {
         "text": "Average Number of Points Scored Standardized"
        }
       }
      }
     },
     "metadata": {},
     "output_type": "display_data"
    }
   ],
   "source": [
    "\n",
    "fig.add_annotation(\n",
    "    x=0.5,\n",
    "    y=-0.15,\n",
    "    xref='paper',\n",
    "    yref='paper',\n",
    "    showarrow=False,\n",
    "    text=\"Black Highlight - States with NFL teams\",\n",
    "    font=dict(size=12),\n",
    "    align=\"center\"\n",
    ")\n",
    "fig.update_layout(\n",
    "    title_text='Average Number of Points Scored Standardized',\n",
    "    geo = dict(\n",
    "        scope='usa',\n",
    "        projection=go.layout.geo.Projection(type = 'albers usa'),\n",
    "        showlakes=False,\n",
    "        bgcolor = \"Black\"\n",
    "        ),\n",
    ")\n",
    "\n",
    "fig.show()"
   ]
  }
 ],
 "metadata": {
  "kernelspec": {
   "display_name": "plotly",
   "language": "python",
   "name": "python3"
  },
  "language_info": {
   "codemirror_mode": {
    "name": "ipython",
    "version": 3
   },
   "file_extension": ".py",
   "mimetype": "text/x-python",
   "name": "python",
   "nbconvert_exporter": "python",
   "pygments_lexer": "ipython3",
   "version": "3.12.1"
  }
 },
 "nbformat": 4,
 "nbformat_minor": 2
}
