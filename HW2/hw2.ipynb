{
  "cells": [
    {
      "cell_type": "code",
      "execution_count": 4,
      "metadata": {
        "colab": {
          "base_uri": "https://localhost:8080/"
        },
        "id": "PDTM0_Seb0cw",
        "outputId": "7911ff23-e68e-4c76-8a68-6947b105e4f4"
      },
      "outputs": [],
      "source": [
        "\n",
        "import pandas as pd\n",
        "from datetime import datetime as dt"
      ]
    },
    {
      "cell_type": "code",
      "execution_count": 1,
      "metadata": {
        "id": "OsOi_UywbVCE"
      },
      "outputs": [
        {
          "name": "stdout",
          "output_type": "stream",
          "text": [
            "Requirement already satisfied: kaggle in /Users/vabalaji1/anaconda3/envs/plotly/lib/python3.12/site-packages (1.6.5)\n",
            "Requirement already satisfied: six>=1.10 in /Users/vabalaji1/anaconda3/envs/plotly/lib/python3.12/site-packages (from kaggle) (1.16.0)\n",
            "Requirement already satisfied: certifi in /Users/vabalaji1/anaconda3/envs/plotly/lib/python3.12/site-packages (from kaggle) (2024.2.2)\n",
            "Requirement already satisfied: python-dateutil in /Users/vabalaji1/anaconda3/envs/plotly/lib/python3.12/site-packages (from kaggle) (2.8.2)\n",
            "Requirement already satisfied: requests in /Users/vabalaji1/anaconda3/envs/plotly/lib/python3.12/site-packages (from kaggle) (2.31.0)\n",
            "Requirement already satisfied: tqdm in /Users/vabalaji1/anaconda3/envs/plotly/lib/python3.12/site-packages (from kaggle) (4.66.1)\n",
            "Requirement already satisfied: python-slugify in /Users/vabalaji1/anaconda3/envs/plotly/lib/python3.12/site-packages (from kaggle) (8.0.4)\n",
            "Requirement already satisfied: urllib3 in /Users/vabalaji1/anaconda3/envs/plotly/lib/python3.12/site-packages (from kaggle) (2.2.0)\n",
            "Requirement already satisfied: bleach in /Users/vabalaji1/anaconda3/envs/plotly/lib/python3.12/site-packages (from kaggle) (6.1.0)\n",
            "Requirement already satisfied: webencodings in /Users/vabalaji1/anaconda3/envs/plotly/lib/python3.12/site-packages (from bleach->kaggle) (0.5.1)\n",
            "Requirement already satisfied: text-unidecode>=1.3 in /Users/vabalaji1/anaconda3/envs/plotly/lib/python3.12/site-packages (from python-slugify->kaggle) (1.3)\n",
            "Requirement already satisfied: charset-normalizer<4,>=2 in /Users/vabalaji1/anaconda3/envs/plotly/lib/python3.12/site-packages (from requests->kaggle) (3.3.2)\n",
            "Requirement already satisfied: idna<4,>=2.5 in /Users/vabalaji1/anaconda3/envs/plotly/lib/python3.12/site-packages (from requests->kaggle) (3.6)\n"
          ]
        }
      ],
      "source": [
        "! pip install -q opendatasets\n",
        "! pip install kaggle\n",
        "#https://www.kaggle.com/datasets/rishidamarla/concussions-in-the-nfl-20122014/code"
      ]
    },
    {
      "cell_type": "code",
      "execution_count": 2,
      "metadata": {
        "id": "uSI37Jvte7MZ"
      },
      "outputs": [],
      "source": [
        "! mkdir ~/.kaggle"
      ]
    },
    {
      "cell_type": "code",
      "execution_count": null,
      "metadata": {
        "id": "spZZhfa-fBoA"
      },
      "outputs": [],
      "source": [
        "! cp kaggle.json ~/.kaggle/"
      ]
    },
    {
      "cell_type": "code",
      "execution_count": null,
      "metadata": {
        "id": "Y0Z0tQ4hfDAW"
      },
      "outputs": [],
      "source": [
        "! chmod 600 ~/.kaggle/kaggle.json"
      ]
    },
    {
      "cell_type": "code",
      "execution_count": null,
      "metadata": {
        "id": "lcAoWkSUb5lt"
      },
      "outputs": [],
      "source": [
        "! kaggle datasets download -d rishidamarla/concussions-in-the-nfl-20122014"
      ]
    },
    {
      "cell_type": "code",
      "execution_count": null,
      "metadata": {
        "id": "RFYjeN9dhj0g"
      },
      "outputs": [],
      "source": [
        "! unzip concussions-in-the-nfl-20122014.zip"
      ]
    },
    {
      "cell_type": "code",
      "execution_count": null,
      "metadata": {
        "id": "kPOFN0p1j9No"
      },
      "outputs": [],
      "source": [
        "! rm -r ~/.kaggle/"
      ]
    },
    {
      "cell_type": "code",
      "execution_count": 8,
      "metadata": {
        "id": "a2SZODl9kdoZ"
      },
      "outputs": [],
      "source": [
        "data = pd.read_csv(\"./kaggle/concussion.csv\")"
      ]
    },
    {
      "cell_type": "code",
      "execution_count": 9,
      "metadata": {
        "colab": {
          "base_uri": "https://localhost:8080/",
          "height": 310
        },
        "id": "XYMlxeDaJuG5",
        "outputId": "6b85470a-e8b3-4081-b26f-159e86597d5c"
      },
      "outputs": [
        {
          "data": {
            "text/html": [
              "<div>\n",
              "<style scoped>\n",
              "    .dataframe tbody tr th:only-of-type {\n",
              "        vertical-align: middle;\n",
              "    }\n",
              "\n",
              "    .dataframe tbody tr th {\n",
              "        vertical-align: top;\n",
              "    }\n",
              "\n",
              "    .dataframe thead th {\n",
              "        text-align: right;\n",
              "    }\n",
              "</style>\n",
              "<table border=\"1\" class=\"dataframe\">\n",
              "  <thead>\n",
              "    <tr style=\"text-align: right;\">\n",
              "      <th></th>\n",
              "      <th>ID</th>\n",
              "      <th>Player</th>\n",
              "      <th>Team</th>\n",
              "      <th>Game</th>\n",
              "      <th>Date</th>\n",
              "      <th>Opposing Team</th>\n",
              "      <th>Position</th>\n",
              "      <th>Pre-Season Injury?</th>\n",
              "      <th>Winning Team?</th>\n",
              "      <th>Week of Injury</th>\n",
              "      <th>Season</th>\n",
              "      <th>Weeks Injured</th>\n",
              "      <th>Games Missed</th>\n",
              "      <th>Unknown Injury?</th>\n",
              "      <th>Reported Injury Type</th>\n",
              "      <th>Total Snaps</th>\n",
              "      <th>Play Time After Injury</th>\n",
              "      <th>Average Playtime Before Injury</th>\n",
              "    </tr>\n",
              "  </thead>\n",
              "  <tbody>\n",
              "    <tr>\n",
              "      <th>0</th>\n",
              "      <td>Aldrick Robinson - Washington Redskins vs. Tam...</td>\n",
              "      <td>Aldrick Robinson</td>\n",
              "      <td>Washington Redskins</td>\n",
              "      <td>Washington Redskins vs. Tampa Bay Buccaneers (...</td>\n",
              "      <td>30/09/2012</td>\n",
              "      <td>Tampa Bay Buccaneers</td>\n",
              "      <td>Wide Receiver</td>\n",
              "      <td>No</td>\n",
              "      <td>Yes</td>\n",
              "      <td>4</td>\n",
              "      <td>2012/2013</td>\n",
              "      <td>1</td>\n",
              "      <td>1.0</td>\n",
              "      <td>No</td>\n",
              "      <td>Head</td>\n",
              "      <td>0</td>\n",
              "      <td>14 downs</td>\n",
              "      <td>37.00 downs</td>\n",
              "    </tr>\n",
              "    <tr>\n",
              "      <th>1</th>\n",
              "      <td>D.J. Fluker - Tennessee Titans vs. San Diego C...</td>\n",
              "      <td>D.J. Fluker</td>\n",
              "      <td>San Diego Chargers</td>\n",
              "      <td>Tennessee Titans vs. San Diego Chargers (22/9/...</td>\n",
              "      <td>22/09/2013</td>\n",
              "      <td>Tennessee Titans</td>\n",
              "      <td>Offensive Tackle</td>\n",
              "      <td>No</td>\n",
              "      <td>No</td>\n",
              "      <td>3</td>\n",
              "      <td>2013/2014</td>\n",
              "      <td>1</td>\n",
              "      <td>1.0</td>\n",
              "      <td>No</td>\n",
              "      <td>Concussion</td>\n",
              "      <td>0</td>\n",
              "      <td>78 downs</td>\n",
              "      <td>73.50 downs</td>\n",
              "    </tr>\n",
              "    <tr>\n",
              "      <th>2</th>\n",
              "      <td>Marquise Goodwin - Houston Texans vs. Buffalo ...</td>\n",
              "      <td>Marquise Goodwin</td>\n",
              "      <td>Buffalo Bills</td>\n",
              "      <td>Houston Texans vs. Buffalo Bills (28/9/2014)</td>\n",
              "      <td>28/09/2014</td>\n",
              "      <td>Houston Texans</td>\n",
              "      <td>Wide Receiver</td>\n",
              "      <td>No</td>\n",
              "      <td>No</td>\n",
              "      <td>4</td>\n",
              "      <td>2014/2015</td>\n",
              "      <td>1</td>\n",
              "      <td>1.0</td>\n",
              "      <td>No</td>\n",
              "      <td>Concussion</td>\n",
              "      <td>0</td>\n",
              "      <td>25 downs</td>\n",
              "      <td>17.50 downs</td>\n",
              "    </tr>\n",
              "    <tr>\n",
              "      <th>3</th>\n",
              "      <td>Bryan Stork - New England Patriots vs. Buffalo...</td>\n",
              "      <td>Bryan Stork</td>\n",
              "      <td>New England Patriots</td>\n",
              "      <td>New England Patriots vs. Buffalo Bills (12/10/...</td>\n",
              "      <td>12/10/2014</td>\n",
              "      <td>Buffalo Bills</td>\n",
              "      <td>Center</td>\n",
              "      <td>No</td>\n",
              "      <td>Yes</td>\n",
              "      <td>6</td>\n",
              "      <td>2014/2015</td>\n",
              "      <td>1</td>\n",
              "      <td>1.0</td>\n",
              "      <td>No</td>\n",
              "      <td>Head</td>\n",
              "      <td>0</td>\n",
              "      <td>82 downs</td>\n",
              "      <td>41.50 downs</td>\n",
              "    </tr>\n",
              "    <tr>\n",
              "      <th>4</th>\n",
              "      <td>Lorenzo Booker - Chicago Bears vs. Indianapoli...</td>\n",
              "      <td>Lorenzo Booker</td>\n",
              "      <td>Chicago Bears</td>\n",
              "      <td>Chicago Bears vs. Indianapolis Colts (9/9/2012)</td>\n",
              "      <td>9/09/2012</td>\n",
              "      <td>Indianapolis Colts</td>\n",
              "      <td>Running Back</td>\n",
              "      <td>Yes</td>\n",
              "      <td>Yes</td>\n",
              "      <td>1</td>\n",
              "      <td>2012/2013</td>\n",
              "      <td>0</td>\n",
              "      <td>NaN</td>\n",
              "      <td>No</td>\n",
              "      <td>Head</td>\n",
              "      <td>0</td>\n",
              "      <td>Did not return from injury</td>\n",
              "      <td>NaN</td>\n",
              "    </tr>\n",
              "  </tbody>\n",
              "</table>\n",
              "</div>"
            ],
            "text/plain": [
              "                                                  ID            Player  \\\n",
              "0  Aldrick Robinson - Washington Redskins vs. Tam...  Aldrick Robinson   \n",
              "1  D.J. Fluker - Tennessee Titans vs. San Diego C...       D.J. Fluker   \n",
              "2  Marquise Goodwin - Houston Texans vs. Buffalo ...  Marquise Goodwin   \n",
              "3  Bryan Stork - New England Patriots vs. Buffalo...       Bryan Stork   \n",
              "4  Lorenzo Booker - Chicago Bears vs. Indianapoli...    Lorenzo Booker   \n",
              "\n",
              "                   Team                                               Game  \\\n",
              "0   Washington Redskins  Washington Redskins vs. Tampa Bay Buccaneers (...   \n",
              "1    San Diego Chargers  Tennessee Titans vs. San Diego Chargers (22/9/...   \n",
              "2         Buffalo Bills       Houston Texans vs. Buffalo Bills (28/9/2014)   \n",
              "3  New England Patriots  New England Patriots vs. Buffalo Bills (12/10/...   \n",
              "4         Chicago Bears    Chicago Bears vs. Indianapolis Colts (9/9/2012)   \n",
              "\n",
              "         Date         Opposing Team          Position Pre-Season Injury?  \\\n",
              "0  30/09/2012  Tampa Bay Buccaneers     Wide Receiver                 No   \n",
              "1  22/09/2013      Tennessee Titans  Offensive Tackle                 No   \n",
              "2  28/09/2014        Houston Texans     Wide Receiver                 No   \n",
              "3  12/10/2014         Buffalo Bills            Center                 No   \n",
              "4   9/09/2012    Indianapolis Colts      Running Back                Yes   \n",
              "\n",
              "  Winning Team?  Week of Injury     Season  Weeks Injured  Games Missed  \\\n",
              "0           Yes               4  2012/2013              1           1.0   \n",
              "1            No               3  2013/2014              1           1.0   \n",
              "2            No               4  2014/2015              1           1.0   \n",
              "3           Yes               6  2014/2015              1           1.0   \n",
              "4           Yes               1  2012/2013              0           NaN   \n",
              "\n",
              "  Unknown Injury? Reported Injury Type  Total Snaps  \\\n",
              "0              No                 Head            0   \n",
              "1              No           Concussion            0   \n",
              "2              No           Concussion            0   \n",
              "3              No                 Head            0   \n",
              "4              No                 Head            0   \n",
              "\n",
              "       Play Time After Injury Average Playtime Before Injury  \n",
              "0                    14 downs                    37.00 downs  \n",
              "1                    78 downs                    73.50 downs  \n",
              "2                    25 downs                    17.50 downs  \n",
              "3                    82 downs                    41.50 downs  \n",
              "4  Did not return from injury                            NaN  "
            ]
          },
          "execution_count": 9,
          "metadata": {},
          "output_type": "execute_result"
        }
      ],
      "source": [
        "data.head()"
      ]
    },
    {
      "cell_type": "code",
      "execution_count": 10,
      "metadata": {
        "colab": {
          "base_uri": "https://localhost:8080/"
        },
        "id": "uGEu-ZsxLsCZ",
        "outputId": "7f98e556-35ba-4e97-9bfe-58acf8f0a018"
      },
      "outputs": [
        {
          "name": "stdout",
          "output_type": "stream",
          "text": [
            "<class 'pandas.core.frame.DataFrame'>\n",
            "RangeIndex: 392 entries, 0 to 391\n",
            "Data columns (total 18 columns):\n",
            " #   Column                          Non-Null Count  Dtype  \n",
            "---  ------                          --------------  -----  \n",
            " 0   ID                              392 non-null    object \n",
            " 1   Player                          392 non-null    object \n",
            " 2   Team                            392 non-null    object \n",
            " 3   Game                            392 non-null    object \n",
            " 4   Date                            392 non-null    object \n",
            " 5   Opposing Team                   392 non-null    object \n",
            " 6   Position                        392 non-null    object \n",
            " 7   Pre-Season Injury?              392 non-null    object \n",
            " 8   Winning Team?                   392 non-null    object \n",
            " 9   Week of Injury                  392 non-null    int64  \n",
            " 10  Season                          392 non-null    object \n",
            " 11  Weeks Injured                   392 non-null    int64  \n",
            " 12  Games Missed                    361 non-null    float64\n",
            " 13  Unknown Injury?                 392 non-null    object \n",
            " 14  Reported Injury Type            389 non-null    object \n",
            " 15  Total Snaps                     392 non-null    int64  \n",
            " 16  Play Time After Injury          349 non-null    object \n",
            " 17  Average Playtime Before Injury  341 non-null    object \n",
            "dtypes: float64(1), int64(3), object(14)\n",
            "memory usage: 55.3+ KB\n"
          ]
        }
      ],
      "source": [
        "data.info()"
      ]
    },
    {
      "cell_type": "code",
      "execution_count": null,
      "metadata": {
        "colab": {
          "base_uri": "https://localhost:8080/"
        },
        "id": "AvDg8Ur6KBIn",
        "outputId": "ccc80152-9339-432e-a4e8-989305ecfcc7"
      },
      "outputs": [
        {
          "name": "stderr",
          "output_type": "stream",
          "text": [
            "<ipython-input-10-38752accbdc3>:1: UserWarning: Parsing dates in DD/MM/YYYY format when dayfirst=False (the default) was specified. This may lead to inconsistently parsed dates! Specify a format to ensure consistent parsing.\n",
            "  data[\"Date\"] = pd.to_datetime(data[\"Date\"])\n"
          ]
        }
      ],
      "source": [
        "data[\"Date\"] = pd.to_datetime(data[\"Date\"])"
      ]
    },
    {
      "cell_type": "code",
      "execution_count": null,
      "metadata": {
        "colab": {
          "base_uri": "https://localhost:8080/"
        },
        "id": "lMvdv0V-LaOI",
        "outputId": "edadf756-f4c0-41a3-c7b4-2e9a7f140890"
      },
      "outputs": [
        {
          "data": {
            "text/plain": [
              "Opposing Team\n",
              "Arizona Cardinals        6\n",
              "Atlanta Falcons          5\n",
              "Baltimore Ravens        16\n",
              "Buffalo Bills           19\n",
              "Carolina Panthers        8\n",
              "Chicago Bears           24\n",
              "Cincinnati Bengals      19\n",
              "Cleveland Browns        10\n",
              "Dallas Cowboys          14\n",
              "Denver Broncos          15\n",
              "Detroit Lions            4\n",
              "Green Bay Packers       11\n",
              "Houston Texans          14\n",
              "Indianapolis Colts      14\n",
              "Jacksonville Jaguars     6\n",
              "Kansas City Chiefs       9\n",
              "Miami Dolphins           8\n",
              "Minnesota Vikings       12\n",
              "New England Patriots    15\n",
              "New Orleans Saints       8\n",
              "New York Giants         10\n",
              "New York Jets           14\n",
              "Oakland Raiders         14\n",
              "Philadelphia Eagles      9\n",
              "Pittsburgh Steelers     17\n",
              "San Diego Chargers      14\n",
              "San Francisco 49ers     10\n",
              "Seattle Seahawks        18\n",
              "St. Louis Rams          10\n",
              "Tampa Bay Buccaneers     9\n",
              "Tennessee Titans        18\n",
              "Washington Redskins     12\n",
              "dtype: int64"
            ]
          },
          "execution_count": 11,
          "metadata": {},
          "output_type": "execute_result"
        }
      ],
      "source": [
        "byOpTeam = data.copy()\n",
        "byOpTeam.groupby(byOpTeam[\"Opposing Team\"]).size()"
      ]
    },
    {
      "cell_type": "code",
      "execution_count": 9,
      "metadata": {
        "id": "dIUT-LspXJOK"
      },
      "outputs": [],
      "source": [
        "temp = data['Pre-Season Injury?'].value_counts()"
      ]
    },
    {
      "cell_type": "code",
      "execution_count": 10,
      "metadata": {
        "colab": {
          "base_uri": "https://localhost:8080/"
        },
        "id": "T9alCHHVXuEG",
        "outputId": "3026ee7c-b447-419f-8dca-60248e683383"
      },
      "outputs": [
        {
          "data": {
            "text/plain": [
              "No     366\n",
              "Yes     26\n",
              "Name: Pre-Season Injury?, dtype: int64"
            ]
          },
          "execution_count": 10,
          "metadata": {},
          "output_type": "execute_result"
        }
      ],
      "source": [
        "temp"
      ]
    }
  ],
  "metadata": {
    "colab": {
      "provenance": []
    },
    "kernelspec": {
      "display_name": "Python 3",
      "name": "python3"
    },
    "language_info": {
      "codemirror_mode": {
        "name": "ipython",
        "version": 3
      },
      "file_extension": ".py",
      "mimetype": "text/x-python",
      "name": "python",
      "nbconvert_exporter": "python",
      "pygments_lexer": "ipython3",
      "version": "3.12.1"
    }
  },
  "nbformat": 4,
  "nbformat_minor": 0
}
