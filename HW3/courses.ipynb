{
 "cells": [
  {
   "cell_type": "code",
   "execution_count": 80,
   "metadata": {},
   "outputs": [],
   "source": [
    "import pandas as pd\n",
    "import json\n",
    "from dotMake import DotMake as dm \n"
   ]
  },
  {
   "cell_type": "code",
   "execution_count": 81,
   "metadata": {},
   "outputs": [],
   "source": [
    "# tmp = open('./dataset/requirement.json')\n",
    "# requirements = json.load(tmp)\n",
    "\n",
    "# tmp2 = open('./dataset/courses3.json')\n",
    "# tmpCourse = json.load(tmp2)\n",
    "\n",
    "# for type in tmpCourse:\n",
    "#     if type['code'] == \"ADMN\":\n",
    "#         for course in type['courses']:\n",
    "#             print(course['crse'])"
   ]
  },
  {
   "cell_type": "code",
   "execution_count": 82,
   "metadata": {},
   "outputs": [],
   "source": [
    "pre0 = open('./dataset/prerequisites0.json')\n",
    "pre00 = json.load(pre0)\n",
    "pre1 = open('./dataset/prerequisites1.json')\n",
    "pre11 = json.load(pre1)"
   ]
  },
  {
   "cell_type": "code",
   "execution_count": 83,
   "metadata": {},
   "outputs": [],
   "source": [
    "graph = dm()\n",
    "coursesTaken = dict()\n",
    "coursesTaken[\"CSCI 1100\"] = graph.addNode(val=\"CSCI 1100\", shape=\"record\")\n"
   ]
  },
  {
   "cell_type": "code",
   "execution_count": 84,
   "metadata": {},
   "outputs": [],
   "source": [
    "def getCoursesForKey(data, key):\n",
    "    courses = []\n",
    "\n",
    "    def extractCourses(nested_data):\n",
    "        if 'type' in nested_data and nested_data['type'] == 'or':\n",
    "            courses.append(nested_data['nested'][0]['course'])\n",
    "        elif 'type' in nested_data and nested_data['type'] == 'and':\n",
    "            for item in nested_data['nested']:\n",
    "                extractCourses(item)\n",
    "        elif 'course' in nested_data:\n",
    "            courses.append(nested_data['course'])\n",
    "\n",
    "    if key in data and 'prerequisites' in data[key]:\n",
    "        \n",
    "        #print(\"HI\")\n",
    "        prerequisites = data[key]['prerequisites']\n",
    "        if 'nested' in prerequisites:\n",
    "            for item in prerequisites['nested']:\n",
    "                extractCourses(item)\n",
    "        else:\n",
    "            extractCourses(prerequisites)\n",
    "    return courses"
   ]
  },
  {
   "cell_type": "code",
   "execution_count": 88,
   "metadata": {},
   "outputs": [],
   "source": [
    "for i in range(0, 8):\n",
    "    curFile = f\"./dataset/courses{str(i)}.json\"\n",
    "    preFile = f\"./dataset/prerequisites{str(i)}.json\"\n",
    "    pre0 = open(preFile)\n",
    "    pre = json.load(pre0)\n",
    "    tmp = open(curFile)\n",
    "    tmpCourse = json.load(tmp)\n",
    "    count = 0\n",
    "    for type in tmpCourse:\n",
    "        if type['code'] == \"CSCI\":\n",
    "            for course in type['courses']:\n",
    "                courseName = ' '.join(course['id'].split('-'))\n",
    "                if courseName in coursesTaken:\n",
    "                    continue\n",
    "                coursesNeeded = []\n",
    "                crns = set()\n",
    "                for section in course['sections']:\n",
    "                    value = None\n",
    "                    try:\n",
    "                        value = pre.get(str(section['crn']))\n",
    "                        #print(value, section['crn'], course['id'], curFile, preFile)\n",
    "                    except:\n",
    "                        continue\n",
    "\n",
    "                    coursesNeeded = getCoursesForKey(pre, str(section['crn']))\n",
    "                    isValid = True\n",
    "                    otherReq = []\n",
    "                    csReq = []\n",
    "                    for preReq in coursesNeeded:\n",
    "                        codes = preReq.split(' ')\n",
    "                        \n",
    "                        if codes[0] == \"CSCI\" and preReq not in coursesTaken:\n",
    "                            isValid = False\n",
    "                            break\n",
    "                        elif codes[0] != \"CSCI\":\n",
    "                            print(codes)\n",
    "                            otherReq.append(preReq)\n",
    "                        elif codes[0] == \"CSCI\":\n",
    "                            csReq.append(preReq)\n",
    "                    \n",
    "                    \n",
    "                    if isValid:\n",
    "                        firstReq = ''\n",
    "                        secondReq = ''\n",
    "                        thirdReq = ''\n",
    "                        if len(otherReq) > 0:\n",
    "                            firstReq = otherReq[0]\n",
    "                            if len(otherReq) > 1:\n",
    "                                secondReq = otherReq[1]\n",
    "                                if len(otherReq) > 2:\n",
    "                                    thirdReq = otherReq[2]\n",
    "\n",
    "                        nodeVal = f\"<f0> {courseName}| <f1> {firstReq}| <f2> {secondReq}| {thirdReq}\"\n",
    "                        coursesTaken[courseName] = graph.addNode(val = nodeVal, shape=\"record\")\n",
    "                        for curReq in csReq:\n",
    "                            graph.addEdge(coursesTaken[curReq], coursesTaken[courseName])\n",
    "\n",
    "\n",
    "                    break\n",
    "                if count ==20:\n",
    "                    print(courseName)\n",
    "                    print(coursesNeeded)\n",
    "                    print(crns)\n",
    "                count +=1\n",
    "\n"
   ]
  },
  {
   "cell_type": "code",
   "execution_count": 90,
   "metadata": {},
   "outputs": [
    {
     "name": "stdout",
     "output_type": "stream",
     "text": [
      "dict_keys(['CSCI 1100', 'CSCI 1200', 'CSCI 2200', 'CSCI 2300', 'CSCI 2500', 'CSCI 2960', 'CSCI 2961', 'CSCI 4100', 'CSCI 4340', 'CSCI 4350', 'CSCI 4370', 'CSCI 4380', 'CSCI 4390', 'CSCI 4440', 'CSCI 4460', 'CSCI 4480', 'CSCI 4800', 'CSCI 4960', 'CSCI 4961', 'CSCI 4962', 'CSCI 4964', 'CSCI 4966', 'CSCI 4967', 'CSCI 4968', 'CSCI 4969', 'CSCI 4970', 'CSCI 4972', 'CSCI 4973', 'CSCI 6100', 'CSCI 6250', 'CSCI 6310', 'CSCI 6340', 'CSCI 6350', 'CSCI 6370', 'CSCI 6390', 'CSCI 6460', 'CSCI 6510', 'CSCI 6800', 'CSCI 6860', 'CSCI 6900', 'CSCI 6961', 'CSCI 6962', 'CSCI 6964', 'CSCI 6973', 'CSCI 6980', 'CSCI 6990', 'CSCI 9990', 'CSCI 2600', 'CSCI 4020', 'CSCI 4150', 'CSCI 4210', 'CSCI 4230', 'CSCI 4260', 'CSCI 4270', 'CSCI 4320', 'CSCI 4400', 'CSCI 4420', 'CSCI 4470', 'CSCI 4530', 'CSCI 4540', 'CSCI 4965', 'CSCI 4976', 'CSCI 6230', 'CSCI 6270', 'CSCI 6360', 'CSCI 6400', 'CSCI 6450', 'CSCI 6500', 'CSCI 6530', 'CSCI 6820', 'CSCI 6840', 'CSCI 6960', 'CSCI 6967', 'CSCI 6969', 'CSCI 6970', 'CSCI 4040', 'CSCI 4220', 'CSCI 4250', 'CSCI 4310', 'CSCI 4430', 'CSCI 4510', 'CSCI 4963', 'CSCI 6040', 'CSCI 6963', 'CSCI 4450', 'CSCI 4600', 'CSCI 4820', 'CSCI 6965', 'CSCI 6966', 'CSCI 6968', 'CSCI 4120', 'CSCI 4971', 'CSCI 6120', 'CSCI 6971', 'CSCI 4560', 'CSCI 4850', 'CSCI 4974', 'CSCI 4975', 'CSCI 6560', 'CSCI 6975', 'CSCI 1700', 'CSCI 2700', 'CSCI 4520', 'CSCI 4550', 'CSCI 6550', 'CSCI 4500'])\n"
     ]
    }
   ],
   "source": [
    "print(coursesTaken.keys())"
   ]
  }
 ],
 "metadata": {
  "kernelspec": {
   "display_name": "Python 3",
   "language": "python",
   "name": "python3"
  },
  "language_info": {
   "codemirror_mode": {
    "name": "ipython",
    "version": 3
   },
   "file_extension": ".py",
   "mimetype": "text/x-python",
   "name": "python",
   "nbconvert_exporter": "python",
   "pygments_lexer": "ipython3",
   "version": "3.12.0"
  }
 },
 "nbformat": 4,
 "nbformat_minor": 2
}
